{
  "nbformat": 4,
  "nbformat_minor": 0,
  "metadata": {
    "colab": {
      "name": "2078921-INF8225-TP1-H22.ipynb",
      "provenance": [],
      "collapsed_sections": []
    },
    "kernelspec": {
      "name": "python3",
      "display_name": "Python 3"
    }
  },
  "cells": [
    {
      "cell_type": "markdown",
      "metadata": {
        "id": "OAHWMYJv4xuc"
      },
      "source": [
        "# INF8225 TP1 H22 (v0.1)"
      ]
    },
    {
      "cell_type": "markdown",
      "metadata": {
        "id": "qV-6EDgXO-S9"
      },
      "source": [
        "Ali Kbar - Sabzi Dizajyekan / Matricule 2078921\n",
        "\n",
        "Partie 3 réalisée: \n",
        " avec \n",
        "*   Mathusan Kathirithamby -2113367\n",
        "\n",
        "\n",
        "Date limite : 8h30 le 28 février 2022\n",
        "\n",
        "Remettez votre fichier Colab sur Moodle en 2 formats: **.pdf** ET **.ipynb**"
      ]
    },
    {
      "cell_type": "markdown",
      "metadata": {
        "id": "Jo2CPniBeytl"
      },
      "source": [
        "**Comment utiliser**:\n",
        "\n",
        "Il faut copier ce notebook dans vos dossiers pour avoir une version que vous pouvez modifier, voici deux façons de le faire:\n",
        "* File / Save a copy in Drive ...\n",
        "* File / Download .ipynb\n",
        "\n",
        "**Pour utiliser un GPU**\n",
        "\n",
        "Runtime / Change Runtime Type / Hardware Accelerator / GPU"
      ]
    },
    {
      "cell_type": "markdown",
      "metadata": {
        "id": "pCGh-NNm47Tk"
      },
      "source": [
        "# Partie 1 (10 points)\n",
        "\n"
      ]
    },
    {
      "cell_type": "markdown",
      "metadata": {
        "id": "r7tkIgu75Ccd"
      },
      "source": [
        "## Objectif\n",
        "L’objectif de la Partie 1 du travail pratique est de permettre à l’étudiant de se familiariser avec les réseaux Bayésiens et la librairie Numpy."
      ]
    },
    {
      "cell_type": "markdown",
      "metadata": {
        "id": "iongVT7XRegv"
      },
      "source": [
        "## Problème\n"
      ]
    },
    {
      "cell_type": "markdown",
      "metadata": {
        "id": "mAPVItwwbiiG"
      },
      "source": [
        "<img src=\"https://drive.google.com/uc?id=1UhYF6_QGTHGpR5VBg-RKvr8jJWJPN12A\" alt=\"bayes_net\" width=\"600\"/>\n",
        "\n",
        "\n",
        "Voici les tables de probabilités conditionnelles fournies:\n",
        "\n",
        "* La probabilité qu'il est Nuageux: $Pr(N=1)=0.2$\n",
        "* La probabilité que l'arroseur a été utilisé sachant qu'il est nuageux ou non: $Pr(A=1|N=1)=0.1$, $Pr(A=1|N=0)=0.3$ \n",
        "* La probabilité qu'il ait plu, étant donné que le temps est nuageux: $Pr(P=1|N=1)=0.4$, $Pr(P=1|N=0)=0.1$\n",
        "* La probabilité que le gazon de Watson soit mouillé...\n",
        "  * ... sachant qu'il a plu est $Pr(W=1|P=1)=1$\n",
        "  *... sachant qu'il n'a $\\textbf{pas}$ plu: $Pr(W=1|P=0)=0.2$\n",
        "* La probabilité que Holmes remarque que son gazon est mouillé...\n",
        "  * ... sachant que l’arroseur a fonctionné et qu'il n'a $\\textbf{pas}$ plu: $Pr(H=1|P=0, A=1)=0.9$\n",
        "  * ... sachant que l’arroseur n'a $\\textbf{pas}$ fonctionné et qu'il n'a $\\textbf{pas}$ plu: $Pr(H=1|P=0, A=0) = 0$\n",
        "  * ... sachant qu'il a plu, et que l'arroseur ait ou pas fonctionné: $Pr(H=1|P=1, A={0,1})=1$"
      ]
    },
    {
      "cell_type": "markdown",
      "metadata": {
        "id": "Twz4slZ9DY6n"
      },
      "source": [
        "## Trucs et astuces\n",
        "Nous utiliserons des vecteurs multidimensionnels `5d-arrays` dont les `axes` représentent:\n",
        "```\n",
        "axe 0 : temps nuageux (N)\n",
        "axe 1 : pluie (P)\n",
        "axe 2 : arroseur (A)\n",
        "axe 3 : gazon de watson (W)\n",
        "axe 4 : gazon de holmes (H)\n",
        "```\n",
        "Chaque `axe` serait de dimension `2`:\n",
        "```\n",
        "0 : faux\n",
        "1 : vrai\n",
        "```\n",
        "Quelques point à garder en tête:\n",
        "- Utiliser la jointe comme point de départ pour vos calculs (ne pas développer tous les termes à la main).\n",
        "- Attention à l'effet du do-operator sur le graphe.\n",
        "- L'argument \"keepdims=True\" de \"np.sum()\" vous permet conserver les mêmes indices.\n",
        "- Pour un rappel sur les probabilités conditionelles, voir: https://www.probabilitycourse.com/chapter1/1_4_0_conditional_probability.php"
      ]
    },
    {
      "cell_type": "markdown",
      "metadata": {
        "id": "EUjUNqVcTEXP"
      },
      "source": [
        "## 1. Complétez les tables de probabilités ci-dessous"
      ]
    },
    {
      "cell_type": "code",
      "metadata": {
        "colab": {
          "base_uri": "https://localhost:8080/"
        },
        "id": "D-rxnQmCCCPa",
        "outputId": "ddf21468-9830-4707-c2c8-f01d71f65a2d"
      },
      "source": [
        "import numpy as np\n",
        "\n",
        "# Les tableaux sont bâtis avec les dimensions (N, P, A, W, H)\n",
        "# et chaque dimension est (False, True)\n",
        "\n",
        "Pr_N = np.array([0.8, 0.2]).reshape(2, 1, 1, 1, 1)\n",
        "Pr_P_given_N = np.array([[0.9, 0.1],[0.6,0.4]]).reshape(2, 2, 1, 1, 1)\n",
        "Pr_A_given_N = np.array([[0.7, 0.3],[0.9,0.1]]).reshape(2, 1, 2, 1, 1)\n",
        "Pr_W_given_P = np.array([[0.8, 0.2],[0,1]]).reshape(1, 2, 1, 2, 1)\n",
        "Pr_H_given_PA = np.array([[1, 0],[0.1, 0.9],[0,1], [0, 1]]).reshape(1, 2, 2, 1, 2)\n",
        "\n",
        "print (f\"Pr(N)=\\n{np.squeeze(Pr_N)}\\n\")\n",
        "print (f\"Pr(P|N)=\\n{np.squeeze(Pr_P_given_N)}\\n\")\n",
        "print (f\"Pr(A|N)=\\n{np.squeeze(Pr_A_given_N)}\\n\")\n",
        "print (f\"Pr(W|P)=\\n{np.squeeze(Pr_W_given_P)}\\n\")\n",
        "print (f\"Pr(H|P,A)=\\n{np.squeeze(Pr_H_given_PA)}\\n\")"
      ],
      "execution_count": null,
      "outputs": [
        {
          "output_type": "stream",
          "name": "stdout",
          "text": [
            "Pr(N)=\n",
            "[0.8 0.2]\n",
            "\n",
            "Pr(P|N)=\n",
            "[[0.9 0.1]\n",
            " [0.6 0.4]]\n",
            "\n",
            "Pr(A|N)=\n",
            "[[0.7 0.3]\n",
            " [0.9 0.1]]\n",
            "\n",
            "Pr(W|P)=\n",
            "[[0.8 0.2]\n",
            " [0.  1. ]]\n",
            "\n",
            "Pr(H|P,A)=\n",
            "[[[1.  0. ]\n",
            "  [0.1 0.9]]\n",
            "\n",
            " [[0.  1. ]\n",
            "  [0.  1. ]]]\n",
            "\n"
          ]
        }
      ]
    },
    {
      "cell_type": "markdown",
      "metadata": {
        "id": "PHD6DX-nS6Qt"
      },
      "source": [
        "## 2. À l'aide de ces tables de probabilité conditionnelles, calculez les requêtes ci-dessous."
      ]
    },
    {
      "cell_type": "markdown",
      "metadata": {
        "id": "f-vXI0O279sX"
      },
      "source": [
        "a) $Pr(H=1)$"
      ]
    },
    {
      "cell_type": "markdown",
      "source": [
        " \n",
        "$$ Pr(H=1) = \\sum_{N} \\sum_{P} \\sum_{A} \\sum_{W} Pr(N)Pr(P|N)Pr(A|N) P(W|P) Pr(H=1|A,P) $$  "
      ],
      "metadata": {
        "id": "N1zvUx88riOl"
      }
    },
    {
      "cell_type": "code",
      "metadata": {
        "id": "lXWtZDsv791d",
        "colab": {
          "base_uri": "https://localhost:8080/"
        },
        "outputId": "22793f84-85b7-4abd-d755-22cb8d1b9a96"
      },
      "source": [
        " answer = np.sum((Pr_N*Pr_P_given_N*Pr_A_given_N*Pr_W_given_P*Pr_H_given_PA[:,:,:,:,1:]))\n",
        " print(f\"Pr(H=1)={answer:.5f}\")"
      ],
      "execution_count": null,
      "outputs": [
        {
          "output_type": "stream",
          "name": "stdout",
          "text": [
            "Pr(H=1)=0.36520\n"
          ]
        }
      ]
    },
    {
      "cell_type": "markdown",
      "metadata": {
        "id": "k7fla36P79_G"
      },
      "source": [
        "b) $Pr(H=1|A=1)$"
      ]
    },
    {
      "cell_type": "markdown",
      "source": [
        "$$Pr(H=1|A=1) = \\frac{Pr(H=1,A=1)}{Pr(A=1)} $$\n",
        "$$ Pr(A=1) =\\sum_{N} \\sum_{P} \\sum_{W} \\sum_{H}  Pr(N,P,A=1,W,H)=\\sum_{N} \\sum_{P} \\sum_{W} \\sum_{H} Pr(N)Pr(P|N)Pr(A=1|N) P(W|P) Pr(H|A=1,P) $$  \n",
        "$$ Pr(H=1,A=1) = \\sum_{N} \\sum_{P} \\sum_{W} Pr(N,P,A=1,W,H=1)=\\sum_{N} \\sum_{P} \\sum_{W}  Pr(N)Pr(P|N) Pr(A=1|N) P(W|P) Pr(H=1|P,A=1)) $$  "
      ],
      "metadata": {
        "id": "RSHcK6rWhBaF"
      }
    },
    {
      "cell_type": "code",
      "metadata": {
        "id": "1Jp2AGLa7-H_",
        "colab": {
          "base_uri": "https://localhost:8080/"
        },
        "outputId": "e1964950-f9bb-44d1-cc55-2245b55fb26d"
      },
      "source": [
        " answer = np.sum((Pr_N*Pr_P_given_N*Pr_A_given_N[:,:,1:,:,:]*Pr_W_given_P*Pr_H_given_PA[:,:,1:,:,1:]))/np.sum((Pr_N*Pr_P_given_N*Pr_A_given_N[:,:,1:,:,:]*Pr_W_given_P*Pr_H_given_PA[:,:,1:,:,:]))\n",
        " print(f\"Pr(H=1|A=1)={answer:.5f}\")"
      ],
      "execution_count": null,
      "outputs": [
        {
          "output_type": "stream",
          "name": "stdout",
          "text": [
            "Pr(H=1|A=1)=0.91231\n"
          ]
        }
      ]
    },
    {
      "cell_type": "markdown",
      "metadata": {
        "id": "O8mt03aX7-WC"
      },
      "source": [
        "c) $Pr(H=1|do(A=1))$"
      ]
    },
    {
      "cell_type": "markdown",
      "source": [
        "$$Pr(H=1|do(A=1))=\\sum_{N} \\sum_{P} \\sum_{W}  Pr(N,P,W,H=1|do(A=1))=\\sum_{N} \\sum_{P} \\sum_{W} Pr(N)Pr(P|N) P(W|P) Pr(H=1|P,do(A=1))  $$"
      ],
      "metadata": {
        "id": "TtluPvw5kq7V"
      }
    },
    {
      "cell_type": "code",
      "metadata": {
        "id": "CCxSweb67-dx",
        "colab": {
          "base_uri": "https://localhost:8080/"
        },
        "outputId": "41a15f30-d3c4-4981-a4b9-602df62335e2"
      },
      "source": [
        " answer = np.sum((Pr_N*Pr_P_given_N*Pr_W_given_P*Pr_H_given_PA[:,:,1:,:,1:]))\n",
        " print(f\"Pr(H=1|do(A=1))={answer:.5f}\")"
      ],
      "execution_count": null,
      "outputs": [
        {
          "output_type": "stream",
          "name": "stdout",
          "text": [
            "Pr(H=1|do(A=1))=0.91600\n"
          ]
        }
      ]
    },
    {
      "cell_type": "markdown",
      "metadata": {
        "id": "dSK8ulij7-m0"
      },
      "source": [
        "d) $Pr(H=1|W=1)$"
      ]
    },
    {
      "cell_type": "markdown",
      "source": [
        "$$Pr(H=1|W=1) = \\frac{Pr(H=1,W=1)}{Pr(W=1)} $$\n",
        "$$ Pr(W=1) =\\sum_{N} \\sum_{P} \\sum_{A} \\sum_{H}  Pr(N,P,A,W=1,H)=\\sum_{N} \\sum_{P} \\sum_{A} \\sum_{H} Pr(N)Pr(P|N)Pr(A|N) P(W=1|P) Pr(H|A,P) $$  \n",
        "$$ Pr(H=1,W=1) = \\sum_{N} \\sum_{P} \\sum_{A} Pr(N,P,A,W=1,H=1)=\\sum_{N} \\sum_{P} \\sum_{A}  Pr(N)Pr(P|N) Pr(A|N) P(W=1|P) Pr(H=1|P,A)) $$  "
      ],
      "metadata": {
        "id": "vPavtNk0BGSI"
      }
    },
    {
      "cell_type": "code",
      "metadata": {
        "id": "cliFsd8f7-vC",
        "colab": {
          "base_uri": "https://localhost:8080/"
        },
        "outputId": "e5d07f4f-ec42-475d-fb17-f1e64e950ef5"
      },
      "source": [
        " answer = np.sum((Pr_N*Pr_P_given_N*Pr_A_given_N*Pr_W_given_P[:,:,:,1:,:]*Pr_H_given_PA[:,:,:,:,1:]))/np.sum((Pr_N*Pr_P_given_N*Pr_A_given_N*Pr_W_given_P[:,:,:,1:,:]*Pr_H_given_PA))\n",
        " print(f\"Pr(H=1|W=1)={answer:.5f}\")"
      ],
      "execution_count": null,
      "outputs": [
        {
          "output_type": "stream",
          "name": "stdout",
          "text": [
            "Pr(H=1|W=1)=0.61293\n"
          ]
        }
      ]
    },
    {
      "cell_type": "markdown",
      "metadata": {
        "id": "zffAAOW67-5I"
      },
      "source": [
        "e) $Pr(H=1|do(W=1))$"
      ]
    },
    {
      "cell_type": "markdown",
      "source": [
        "$$ Pr(H=1|do(W=1)) = \\sum_{N} \\sum_{P} \\sum_{A} Pr(N,P,A,H=1|do(w=1))=\\sum_{N} \\sum_{P} \\sum_{A}  Pr(N)Pr(P|N) Pr(A|N) Pr(H=1|P,A,do(w=1))) $$  "
      ],
      "metadata": {
        "id": "p3JMqmc3HeqV"
      }
    },
    {
      "cell_type": "code",
      "metadata": {
        "id": "9zyt7TeB7_CD",
        "colab": {
          "base_uri": "https://localhost:8080/"
        },
        "outputId": "a440dd7c-8ce9-475b-ed6f-1fb31bbf94b7"
      },
      "source": [
        " answer = np.sum((Pr_N*Pr_P_given_N*Pr_A_given_N*Pr_H_given_PA[:,:,:,:,1:]))\n",
        " print(f\"Pr(H=1|do(W=1))={answer:.5f}\")"
      ],
      "execution_count": null,
      "outputs": [
        {
          "output_type": "stream",
          "name": "stdout",
          "text": [
            "Pr(H=1|do(W=1))=0.36520\n"
          ]
        }
      ]
    },
    {
      "cell_type": "markdown",
      "metadata": {
        "id": "PeIkZjn47_LZ"
      },
      "source": [
        "f) $Pr(W=1|P=1)$"
      ]
    },
    {
      "cell_type": "markdown",
      "source": [
        "$$Pr(W=1|P=1) = \\frac{Pr(W=1,P=1)}{Pr(P=1)} $$\n",
        "$$ Pr(P=1) =\\sum_{N}  \\sum_{A} \\sum_{W} \\sum_{H}  Pr(N,P=1,A,W,H)=\\sum_{N}  \\sum_{A} \\sum_{W} \\sum_{H} Pr(N)Pr(P=1|N)Pr(A|N)Pr(W|P=1) Pr(H|A,P=1) $$  \n",
        "$$ Pr(W=1,P=1) = \\sum_{N} \\sum_{A} \\sum_{H} Pr(N,P=1,A,W=1,H)=\\sum_{N}  \\sum_{A}\\sum_{H}  Pr(N)Pr(P=1|N) Pr(A|N) P(W=1|P=1) Pr(H|P=1,A)) $$  "
      ],
      "metadata": {
        "id": "JY63alXfI1IX"
      }
    },
    {
      "cell_type": "code",
      "metadata": {
        "id": "Yscy5bf27_Sq",
        "colab": {
          "base_uri": "https://localhost:8080/"
        },
        "outputId": "6da075d5-0061-4856-8056-80980c43600a"
      },
      "source": [
        " answer = np.sum((Pr_N*Pr_P_given_N[:,1:,:,:,:]*Pr_A_given_N*Pr_W_given_P[:,1:,:,1:,:]*Pr_H_given_PA[:,1:,:,:,:]))/np.sum((Pr_N*Pr_P_given_N[:,1:,:,:,:]*Pr_A_given_N*Pr_W_given_P[:,1:,:,:,:]*Pr_H_given_PA[:,1:,:,:,:]))\n",
        " print(f\"Pr(W=1|P=1)={answer:.5f}\")"
      ],
      "execution_count": null,
      "outputs": [
        {
          "output_type": "stream",
          "name": "stdout",
          "text": [
            "Pr(W=1|P=1)=1.00000\n"
          ]
        }
      ]
    },
    {
      "cell_type": "markdown",
      "metadata": {
        "id": "XbV8cFjU8TxQ"
      },
      "source": [
        "g) $Pr(W=1|do(P=1))$"
      ]
    },
    {
      "cell_type": "markdown",
      "source": [
        "$$Pr(W=1|do(P=1))=\\sum_{N} \\sum_{A} \\sum_{H}  Pr(N,P,W=1|do(P=1),H))=\\sum_{N} \\sum_{A} \\sum_{H} Pr(N)Pr(A|N) P(W=1|do(P=1)) Pr(H|do(P=1),A))  $$"
      ],
      "metadata": {
        "id": "5qMp4MzleAjz"
      }
    },
    {
      "cell_type": "code",
      "metadata": {
        "id": "7jBgoNDz8T6z",
        "colab": {
          "base_uri": "https://localhost:8080/"
        },
        "outputId": "2e09c6ff-f426-4aa6-ddd8-4047c69cc3e5"
      },
      "source": [
        " answer = np.sum(Pr_N*Pr_A_given_N*Pr_W_given_P[:,1:,:,1:,:]*Pr_H_given_PA[:,1:,:,:,:])\n",
        " print(f\"Pr(W=1|do(P=1))={answer:.5f}\")"
      ],
      "execution_count": null,
      "outputs": [
        {
          "output_type": "stream",
          "name": "stdout",
          "text": [
            "Pr(W=1|do(P=1))=1.00000\n"
          ]
        }
      ]
    },
    {
      "cell_type": "markdown",
      "metadata": {
        "id": "05xm-VaW8UQh"
      },
      "source": [
        "h) $Pr(H=1|P=1)$ "
      ]
    },
    {
      "cell_type": "markdown",
      "source": [
        "$$Pr(H=1|P=1) = \\frac{Pr(H=1,P=1)}{Pr(P=1)} $$\n",
        "$$ Pr(P=1) =\\sum_{N} \\sum_{A} \\sum_{W} \\sum_{H}  Pr(N,P=1,A,W,H)=\\sum_{N} \\sum_{A} \\sum_{W} \\sum_{H} Pr(N)Pr(P=1|N)Pr(A|N) P(W|P=1) Pr(H|A,P=1) $$  \n",
        "$$ Pr(H=1,P=1) = \\sum_{N} \\sum_{A} \\sum_{W} Pr(N,P=1,A,W,H=1)=\\sum_{N} \\sum_{A} \\sum_{W}  Pr(N)Pr(P=1|N) Pr(A|N) P(W|P=1) Pr(H=1|P=1,A)) $$ "
      ],
      "metadata": {
        "id": "L18kAhAdY1nk"
      }
    },
    {
      "cell_type": "code",
      "metadata": {
        "id": "shjD8GIL8UZV",
        "colab": {
          "base_uri": "https://localhost:8080/"
        },
        "outputId": "a6af1cf2-d536-426f-f406-9456ab5b03a4"
      },
      "source": [
        " answer = np.sum((Pr_N*Pr_P_given_N[:,1:,:,:,:]*Pr_A_given_N*Pr_W_given_P[:,1:,:,:,:]*Pr_H_given_PA[:,1:,:,:,1:]))/np.sum((Pr_N*Pr_P_given_N[:,1:,:,:,:]*Pr_A_given_N*Pr_W_given_P[:,1:,:,:,:]*Pr_H_given_PA[:,1:,:,:,:]))\n",
        " print(f\"Pr(H=1|P=1)={answer:.5f}\")"
      ],
      "execution_count": null,
      "outputs": [
        {
          "output_type": "stream",
          "name": "stdout",
          "text": [
            "Pr(H=1|P=1)=1.00000\n"
          ]
        }
      ]
    },
    {
      "cell_type": "markdown",
      "metadata": {
        "id": "9i2ahKAj8Umu"
      },
      "source": [
        "i) $Pr(H=1|do(P=1))$"
      ]
    },
    {
      "cell_type": "markdown",
      "source": [
        "$$Pr(H=1|do(P=1))=\\sum_{N} \\sum_{A} \\sum_{W}  Pr(N,A,W|do(P=1),H=1|do(P=1))=\\sum_{N} \\sum_{A} \\sum_{W} Pr(N)Pr(P|N) P(W|do(P=1)) Pr(H=1|A,do(P=1))  $$"
      ],
      "metadata": {
        "id": "EViOnHT6arJl"
      }
    },
    {
      "cell_type": "code",
      "metadata": {
        "id": "2nLKd4c18UuA",
        "colab": {
          "base_uri": "https://localhost:8080/"
        },
        "outputId": "5194b1fc-0d92-477d-b00a-4a73c1279a6e"
      },
      "source": [
        " answer = np.sum((Pr_N*Pr_A_given_N*Pr_W_given_P[:,1:,:,:,:]*Pr_H_given_PA[:,1:,:,:,1:]))\n",
        " print(f\"Pr(H=1|do(P=1))={answer:.5f}\")"
      ],
      "execution_count": null,
      "outputs": [
        {
          "output_type": "stream",
          "name": "stdout",
          "text": [
            "Pr(H=1|do(P=1))=1.00000\n"
          ]
        }
      ]
    },
    {
      "cell_type": "markdown",
      "metadata": {
        "id": "iUc0EpO18eA-"
      },
      "source": [
        "j) $Pr(P=1|W=1,H=1,N=1)$"
      ]
    },
    {
      "cell_type": "markdown",
      "source": [
        "$$Pr(P=1|W=1, H=1, N=1) = \\frac{Pr(N=1,P=1,W=1,H=1)}{Pr(N=1,W=1,H=1)} $$\n",
        "$$ Pr(N=1,W=1,H=1) =\\sum_{P} \\sum_{A}  Pr(N=1,P,A,W=1,H=1)=\\sum_{P} \\sum_{A} Pr(N=1)Pr(P|N=1)Pr(A|N=1) P(W=1|P) Pr(H=1|A,P) $$  \n",
        "$$ Pr(N=1,P=1,W=1,H=1) = \\sum_{A} Pr(N=1,P=1,A,W=1,H=1)=\\sum_{A} Pr(N=1)Pr(P=1|N=1) Pr(A|N=1) P(W=1|P=1) Pr(H=1|P=1,A)) $$ "
      ],
      "metadata": {
        "id": "k5CVIwWZcLcD"
      }
    },
    {
      "cell_type": "code",
      "metadata": {
        "id": "mgDLu0nJ8eM2",
        "colab": {
          "base_uri": "https://localhost:8080/"
        },
        "outputId": "cc7fe10d-2ee9-4d83-bceb-3c8695bb7b09"
      },
      "source": [
        " answer = np.sum((Pr_N[1:,:,:,:,:]*Pr_P_given_N[1:,1:,:,:,:]*Pr_A_given_N[1:,:,:,:,:]*Pr_W_given_P[:,1:,:,1:,:]*Pr_H_given_PA[:,1:,:,:,1:]))/np.sum((Pr_N[1:,:,:,:,:]*Pr_P_given_N*Pr_A_given_N[1:,:,:,:,:]*Pr_W_given_P[:,1:,:,1:,:]*Pr_H_given_PA[:,:,:,:,1:]))\n",
        " print(f\"Pr(P=1|W=1,H=1,N=1)={answer:.5f}\")"
      ],
      "execution_count": null,
      "outputs": [
        {
          "output_type": "stream",
          "name": "stdout",
          "text": [
            "Pr(P=1|W=1,H=1,N=1)=0.62992\n"
          ]
        }
      ]
    },
    {
      "cell_type": "markdown",
      "source": [
        "## 3. Répondez aux questions suivantes et expliquez\n",
        "\n",
        "### a) Vrai ou Faux:\n",
        "\n",
        "#### i) $H \\perp\\!\\!\\!\\perp N \\, | \\, P \\quad$ ?\n",
        "\n",
        "#### ii) $H \\perp\\!\\!\\!\\perp N \\, | \\, A \\quad$ ?\n",
        "\n",
        "#### iii) $W \\perp\\!\\!\\!\\perp H \\, | \\, P \\quad$ ?\n",
        "\n",
        "#### iv) $P \\perp\\!\\!\\!\\perp A \\, | \\, N \\quad$ ?\n",
        "\n",
        "#### v) $P \\perp\\!\\!\\!\\perp A \\, | \\, N, H \\quad$ ?\n",
        "\n",
        "#### vi) $H \\perp\\!\\!\\!\\perp N \\, | \\, A \\quad$ ?"
      ],
      "metadata": {
        "id": "WTRdYkHfGqDu"
      }
    },
    {
      "cell_type": "markdown",
      "source": [
        "**Réponse:**\n",
        "#### i) Faux, tous\tles\tchemins possibles\tde nœud\tH\tà nœud\tN\tn'est pas bloqué par nœud P. Il y a un chemin\tpar nœud A que les flèches se\trencontrent\ttête-bêche (head to tail)\tau\tnœud A. Donc A est inconnu est H et N sont dependent.\n",
        "\n",
        "#### ii) Faux, tous\tles\tchemins possibles\tde nœud\tH\tà nœud\tN\tn'est pas bloqué par nœud A. Il y a un chemin\tpar nœud P que les flèches se\trencontrent\ttête-bêche (head to tail)\tau\tnœud P. Donc P est inconnu est H et N sont dependent.\n",
        "\n",
        "#### iii) Vrai, tous\tles\tchemins possibles\tde nœud\tW\tà nœud\tH\test dit bloqué par nœud P. Il y a deux chemin\tpar nœud P que les flèches se\trencontrent\ttête-bêche (head to tail)\tet bêche-bêche au\tnœud P.\n",
        "\n",
        "#### iv) Vrai,  Il y a un chemin\tpar nœud N que les flèches se\trencontrent bêche-bêche au\tnœud N. Il y un chemin tête\tà\ttête par H mais H est inconnu.\n",
        "\n",
        "#### v) Faux, P et A sont independent etant donné N mais conditionellement dependant sachant H, parceque H est l'enfant de A et P et donc il y a influence convergente (les\tflèchese \tse\trencontrent\ttête\tà\ttête\tau\tnœud H)."
      ],
      "metadata": {
        "id": "cpoOrxiaHV43"
      }
    },
    {
      "cell_type": "markdown",
      "source": [
        "### b) Expliquez:\n",
        "\n",
        "#### i) Pourquoi est-ce que $Pr(W|P)=Pr(W|do(P))$ ?\n",
        "\n",
        "#### ii) Pourquoi est-ce que $Pr(H|A)\\neq Pr(H|do(A))$ ?"
      ],
      "metadata": {
        "id": "upu-oX3L-ObO"
      }
    },
    {
      "cell_type": "markdown",
      "source": [
        "**Réponse:**\n",
        "#### i) parceque il satisfait la condition suffisant que P d-sépare\tson\tparent (N)\tde\tW : $ W \\perp\\!\\!\\!\\perp N  |P $ donc $Pr(W|P)=Pr(W|do(P))$.\n",
        "\n",
        "#### ii) parceque A ne peut pas d-sépare\tson\tparent (N)\tde\tH. Il y a un chemin de N vers H par nœud P. c. à.d. $H \\not\\perp\\!\\!\\!\\not\\perp N \\, | \\, A \\quad$ donc $Pr(H|A)\\neq Pr(H|do(A))$."
      ],
      "metadata": {
        "id": "N8Xe81T4-OtR"
      }
    },
    {
      "cell_type": "markdown",
      "metadata": {
        "id": "fqfqhDoL5CfA"
      },
      "source": [
        "# Partie 2 (20 points)"
      ]
    },
    {
      "cell_type": "markdown",
      "metadata": {
        "id": "ZjIVlyRq5CjA"
      },
      "source": [
        "## Objectif\n",
        "\n",
        "L’objectif de la partie 2 du travail pratique est de permettre à l’étudiant de se familiariser avec l’apprentissage automatique via la régression logistique. Nous allons donc résoudre un problème de classification d'images en utilisant l’approche de descente du gradient (gradient descent) pour optimiser la log-vraisemblance négative (negative log-likelihood) comme fonction de perte.\n",
        "\n",
        "L'algorithme à implémenter est une variation de descente de gradient qui s’appelle l’algorithme de descente de gradient stochastique par mini-ensemble (mini-batch stochastic gradient descent).  Votre objectif est d’écrire un programme en Python pour optimiser les paramètres d’un modèle étant donné un ensemble de données d’apprentissage, en utilisant un ensemble de validation pour déterminer quand arrêter l'optimisation, et finalement de montrer la performance sur l’ensemble du test."
      ]
    },
    {
      "cell_type": "markdown",
      "metadata": {
        "id": "vFxYYRQJ5Cnb"
      },
      "source": [
        "## Théorie: la régression logistique et le calcul du gradient\n",
        "Il est possible d’encoder l’information concernant l’étiquetage avec des vecteurs multinomiaux (one-hot vectors), c.-à-d. un vecteur de zéros avec un seul 1 pour indiquer quand la classe $C=k$ dans la dimension $k$. Par exemple, le vecteur $\\mathbf{y}=[0, 1, 0, \\cdots, 0]^T$ représente la deuxième classe. Les caractéristiques (features) sont données par des vecteurs $\\mathbf{x}_i \\in \\mathbb{R}^{D}$. En définissant les paramètres de notre modèle comme : $\\mathbf{W}=[\\mathbf{w}_1, \\cdots, \\mathbf{w}_K]^T$ et $\\mathbf{b}=[b_1, b_2, \\cdots  b_K]^T$ et la fonction softmax comme fonction de sortie, on peut exprimer notre modèle sous la forme :\n",
        "\\begin{eqnarray}\n",
        "    p(\\mathbf{y}|\\mathbf{x}) \n",
        "    &=& \\frac{\\exp(\\mathbf{y}^T \\mathbf{W} \\mathbf{x} + \\mathbf{y}^T \\mathbf{b})}{\\sum_{\\mathbf{y}_k \\in \\mathcal{Y}} \\exp(\\mathbf{y}_k^T \\mathbf{W} \\mathbf{x} + \\mathbf{y}_k^T \\mathbf{b})} \n",
        "\\end{eqnarray}\n",
        "L'ensemble de données consiste de $n$ paires (label, input) de la forme $\\mathcal{D}:=(\\mathbf{\\tilde{y}}_i, \\mathbf{\\tilde{x}}_i)_{i=1}^n$, où nous utilisons l'astuce de redéfinir $\\mathbf{\\tilde{x}}_i = [\\mathbf{\\tilde{x}}_i^T 1]^T$ et nous redéfinissions la matrice de paramètres $\\boldsymbol{\\theta} \\in \\mathbb{R}^{K\\times(D+1)}$ (voir des notes de cours pour la relation entre $\\boldsymbol{\\theta}$ et $\\mathbf{W}$). Notre fonction de perte, la log-vraisemblance négative des données selon notre modèle est définie comme:\n",
        "\\begin{equation}\n",
        "    \\mathcal{L}\\big( \\boldsymbol{\\theta}, \\mathcal{D} \\big) := -\\log \\prod_{i=1}^N P(\\mathbf{\\tilde{y}}_i|\\mathbf{\\tilde{x}}_i; \\boldsymbol{\\theta})\n",
        "\\end{equation}\n",
        "Pour cette partie du TP, nous avons calculé pour vous le gradient de la fonction de perte par rapport par rapport aux paramètres du modèle:\n",
        "\\begin{eqnarray}\n",
        "    \\frac{\\partial}{\\partial \\boldsymbol{\\theta}} \\mathcal{L}\\big( \\boldsymbol{\\theta}, \\mathcal{D} \\big) \n",
        "    &=& -\\sum_{i=1}^N \\frac{\\partial}{\\partial \\boldsymbol{\\theta}} \\Bigg\\{\\log \\Bigg(\\frac{\\exp(\\mathbf{\\tilde{y}}_i^T \\boldsymbol{\\theta} \\mathbf{\\tilde{x}}_i)}{\\sum_{\\mathbf{y}_k \\in \\mathcal{Y}} \\exp(\\mathbf{y}_k^T \\boldsymbol{\\theta} \\mathbf{\\tilde{x}}_i)} \\Bigg) \\Bigg\\} \\\\\n",
        "    &=& -\\sum_{i=1}^N \\left(\\mathbf{\\tilde{y}}_i \\mathbf{\\tilde{x}}^T_i- \\sum_{\\mathbf{y}_k \\in \\mathcal{Y}} P(\\mathbf{y}_k|\\mathbf{\\tilde{x}}_i,\\boldsymbol{\\theta}) \\mathbf{y}_k \\mathbf{\\tilde{x}}^T_i \\right) \\\\\n",
        "    &=& \\sum_{i=1}^N \\mathbf{\\hat{p}}_i \\mathbf{\\tilde{x}}^T_i - \\sum_{i=1}^N \\mathbf{\\tilde{y}}_i \\mathbf{\\tilde{x}}^T_i\n",
        "\\end{eqnarray}\n",
        "où $\\mathbf{\\hat{p}}_i$ est un vecteur de probabilités produit par le modèle pour l'exemple $\\mathbf{\\tilde{x}}_i$ et $\\mathbf{\\tilde{y}}_i$ est le vrai *label* pour ce même exemple.\n",
        "\n",
        "Finalement, il reste à discuter de l'évaluation du modèle. Pour la tâche d'intérêt, qui est une instance du problème de classification, il existe plusieurs métriques pour mesurer les performances du modèle la précision de classification, l'erreur de classification, le taux de faux/vrai positifs/négatifs, etc. Habituellement dans le contexte de l'apprentissage automatique, la précision est la plus commune.\n",
        "\n",
        "La précision est définie comme le rapport du nombre d'échantillons bien classés sur le nombre total d'échantillons à classer:\n",
        "$$\n",
        "\\tau_{acc} := \\frac{|\\mathcal{C}|}{|\\mathcal{D}|} \n",
        "$$\n",
        "où l'ensemble des échantillons bien classés $\\mathcal{C}$ est:\n",
        "$$\n",
        "\\mathcal{C} := \\lbrace (\\mathbf{x}, \\mathbf{y}) \\in \\mathcal{D} \\, | \\, \\underset{k}{\\arg\\max} \\, \\, P(\\cdot|\\mathbf{\\tilde{x}}_i; \\boldsymbol{\\theta})_k = \\underset{k}{\\arg\\max} \\, \\, \\tilde{y}_{i,k} \\rbrace\n",
        "$$ \n",
        "En mots, il s'agit du sous-ensemble d'échantillons pour lesquels la classe la plus probable selon notre modèle correspond à la vraie classe."
      ]
    },
    {
      "cell_type": "markdown",
      "metadata": {
        "id": "x3wjjnIDGHZj"
      },
      "source": [
        "## Description des tâches\n",
        "\n",
        "#### 1. Code à compléter\n",
        "\n",
        "On vous demande de compléter l'extrait de code ci-dessous pour résoudre ce problème. Vous devez utiliser la librairie PyTorch cette partie du TP: https://pytorch.org/docs/stable/index.html. Mettez à jour les paramètres de votre modèle avec la descente par *mini-batch*. Exécutez des expériences avec trois différents ensembles: un ensemble d’apprentissages avec 90\\% des exemples (choisis au hasard), un ensemble de validation avec 10\\%. Utilisez uniquement l'ensemble de test pour obtenir votre meilleur résultat une fois que vous pensez avoir obtenu votre meilleure stratégie pour entraîner le modèle.\n",
        "\n",
        "#### 2. Rapport à rédiger\n",
        "\n",
        "Présentez vos résultats dans un rapport. Ce rapport devrait inclure:\n",
        "\n",
        "- **Recherche d'hyperparamètres:** Faites une recherche d'hyperparamètres pour différents taux d'apprentissage, e.g. 0.1, 0.01, 0.001, et différentes tailles de mini-batch, e.g. 1, 20, 200, 1000 pour des modèles entrainés avec SGD. Présentez dans un tableau la précision finale du modèle, sur l'*ensemble de validation*, pour ces différentes combinaisons d'hyperparamètres.\n",
        "\n",
        "- **Analyse du meilleur modèle:** Pour votre meilleur modèle, présentez deux figures montrant la progression de son apprentissage sur l'*ensembe d'entrainement et l'ensemble de validation*. La première figure montrant les courbes de log-vraisemblance négative moyenne après chaque epoch, la deuxième montrant la précision du modèle après chaque epoch. Finalement donnez la précision finale sur l'ensemble de test.\n",
        "\n",
        "- Lire l'article de recherche -\n",
        "Adam: a method for stochastic optimization. Kingma, D., \\& Ba, J. (2015). International Conference on Learning Representation (ICLR). \n",
        "https://arxiv.org/pdf/1412.6980.pdf. Implémentez Adam, répétez les deux étapes précédentes (recherche d'hyperparamètres et analyse du meilleur modèle) cette fois en utilisat Adam, et comparez les performances finales avec votre meilleur modèle SGD.\n",
        "\n",
        "**IMPORTANT**\n",
        "\n",
        "L'objectif du TP est de vous faire implémenter la rétropropagation à la main. **Il est donc interdit d'utiliser les capacités de construction de modèles ou de différentiation automatique de pytorch -- par exemple, aucun appels à torch.nn, torch.autograd ou à la méthode .backward().** L'objectif est d'implémenter un modèle de classification logistique ainsi que son entainement en utilisant uniquement des opérations matricielles de base fournies par PyTorch e.g. torch.sum(), torch.matmul(), etc."
      ]
    },
    {
      "cell_type": "markdown",
      "source": [
        "## Fonctions fournies"
      ],
      "metadata": {
        "id": "oQq0nDgZuMfs"
      }
    },
    {
      "cell_type": "code",
      "metadata": {
        "id": "-U_jhXT_0Cbs",
        "colab": {
          "base_uri": "https://localhost:8080/"
        },
        "outputId": "4f79f2b3-a410-4093-e0a5-86457fc67727"
      },
      "source": [
        "# fonctions pour charger les ensembles de donnees\n",
        "from torchvision.datasets import FashionMNIST\n",
        "from torchvision import transforms\n",
        "import torch\n",
        "from torch.utils.data import DataLoader, random_split\n",
        "from tqdm import tqdm\n",
        "import matplotlib.pyplot as plt\n",
        "import numpy as np\n",
        "\n",
        "def get_fashion_mnist_dataloaders(val_percentage=0.1, batch_size=1):\n",
        "  dataset = FashionMNIST(\"./dataset\", train=True,  download=True, transform=transforms.Compose([transforms.ToTensor()]))\n",
        "  dataset_test = FashionMNIST(\"./dataset\", train=False,  download=True, transform=transforms.Compose([transforms.ToTensor()]))\n",
        "  len_train = int(len(dataset) * (1.-val_percentage))\n",
        "  len_val = len(dataset) - len_train\n",
        "  dataset_train, dataset_val = random_split(dataset, [len_train, len_val])\n",
        "  data_loader_train = DataLoader(dataset_train, batch_size=batch_size,shuffle=True,num_workers=4)\n",
        "  data_loader_val   = DataLoader(dataset_val, batch_size=batch_size,shuffle=True,num_workers=4)\n",
        "  data_loader_test  = DataLoader(dataset_test, batch_size=batch_size,shuffle=True,num_workers=4)\n",
        "  return data_loader_train, data_loader_val, data_loader_test\n",
        "\n",
        "def reshape_input(x, y):\n",
        "    x = x.view(-1, 784)\n",
        "    y = torch.FloatTensor(len(y), 10).zero_().scatter_(1,y.view(-1,1),1)\n",
        "    return x, y\n",
        "    \n",
        "\n",
        "# call this once first to download the datasets\n",
        "_ = get_fashion_mnist_dataloaders()"
      ],
      "execution_count": null,
      "outputs": [
        {
          "output_type": "stream",
          "name": "stderr",
          "text": [
            "/usr/local/lib/python3.7/dist-packages/torch/utils/data/dataloader.py:481: UserWarning: This DataLoader will create 4 worker processes in total. Our suggested max number of worker in current system is 2, which is smaller than what this DataLoader is going to create. Please be aware that excessive worker creation might get DataLoader running slow or even freeze, lower the worker number to avoid potential slowness/freeze if necessary.\n",
            "  cpuset_checked))\n"
          ]
        }
      ]
    },
    {
      "cell_type": "code",
      "metadata": {
        "id": "9H5BnbgAOpio"
      },
      "source": [
        "# simple logger to track progress during training\n",
        "class Logger:\n",
        "    def __init__(self):\n",
        "        self.losses_train = []\n",
        "        self.losses_valid = []\n",
        "        self.accuracies_train = []\n",
        "        self.accuracies_valid = []\n",
        "\n",
        "    def log(self, accuracy_train=0, loss_train=0, accuracy_valid=0, loss_valid=0):\n",
        "        self.losses_train.append(loss_train)\n",
        "        self.accuracies_train.append(accuracy_train)\n",
        "        self.losses_valid.append(loss_valid)\n",
        "        self.accuracies_valid.append(accuracy_valid)\n",
        "\n",
        "    def plot_loss_and_accuracy(self, train=True, valid=True):\n",
        "\n",
        "        assert train and valid, \"Cannot plot accuracy because neither train nor valid.\"\n",
        "\n",
        "        figure, (ax1, ax2) = plt.subplots(nrows=1, ncols=2,\n",
        "                                            figsize=(12, 6))\n",
        "        \n",
        "        if train:\n",
        "            ax1.plot(self.losses_train, label=\"Training\")\n",
        "            ax2.plot(self.accuracies_train, label=\"Training\")\n",
        "        if valid:\n",
        "            ax1.plot(self.losses_valid, label=\"Validation\")\n",
        "            ax1.set_title(\"CrossEntropy Loss\")\n",
        "            ax2.plot(self.accuracies_valid, label=\"Validation\")\n",
        "            ax2.set_title(\"Accuracy\")\n",
        "        \n",
        "        for ax in figure.axes:\n",
        "            ax.set_xlabel(\"Epoch\")\n",
        "            ax.legend(loc='best')\n",
        "            ax.set_axisbelow(True)\n",
        "            ax.minorticks_on()\n",
        "            ax.grid(True, which=\"major\", linestyle='-')\n",
        "            ax.grid(True, which=\"minor\", linestyle='--', color='lightgrey', alpha=.4)            \n",
        "  \n",
        "    def print_last(self):\n",
        "        print(f\"Epoch {len(self.losses_train):2d}, \\\n",
        "                Train:loss={self.losses_train[-1]:.3f}, accuracy={self.accuracies_train[-1]*100:.1f}%, \\\n",
        "                Valid: loss={self.losses_valid[-1]:.3f}, accuracy={self.losses_valid[-1]*100:.1f}%\", flush=True)"
      ],
      "execution_count": null,
      "outputs": []
    },
    {
      "cell_type": "markdown",
      "metadata": {
        "id": "vAJ5iiRUZw3f"
      },
      "source": [
        "## Aperçu de l'ensemble de données FashionMnist"
      ]
    },
    {
      "cell_type": "code",
      "metadata": {
        "colab": {
          "base_uri": "https://localhost:8080/",
          "height": 332
        },
        "id": "fK-eNmc8Zv2d",
        "outputId": "a3cd05bd-2849-40d1-f605-cf19ff2d9143"
      },
      "source": [
        "def plot_samples():\n",
        "  a, _, _ = get_fashion_mnist_dataloaders()\n",
        "  num_row = 2\n",
        "  num_col = 5# plot images\n",
        "  num_images = num_row * num_col\n",
        "  fig, axes = plt.subplots(num_row, num_col, figsize=(1.5*num_col,2*num_row))\n",
        "  for i, (x,y) in enumerate(a):\n",
        "      \n",
        "      # x, y = reshape_input(x, y)\n",
        "      # print(y)\n",
        "      # print(torch.argmax(y))\n",
        "      # print(y.shape)\n",
        "      # print(x.shape)\n",
        "      if i >= num_images:\n",
        "        break\n",
        "      ax = axes[i//num_col, i%num_col]\n",
        "      x = (x.numpy().squeeze() * 255).astype(int)\n",
        "      y = y.numpy()[0]\n",
        "      ax.imshow(x, cmap='gray')\n",
        "      ax.set_title(f\"Label: {y}\")\n",
        "      \n",
        "  plt.tight_layout()\n",
        "  plt.show()\n",
        "plot_samples()"
      ],
      "execution_count": null,
      "outputs": [
        {
          "output_type": "stream",
          "name": "stderr",
          "text": [
            "/usr/local/lib/python3.7/dist-packages/torch/utils/data/dataloader.py:481: UserWarning: This DataLoader will create 4 worker processes in total. Our suggested max number of worker in current system is 2, which is smaller than what this DataLoader is going to create. Please be aware that excessive worker creation might get DataLoader running slow or even freeze, lower the worker number to avoid potential slowness/freeze if necessary.\n",
            "  cpuset_checked))\n"
          ]
        },
        {
          "output_type": "display_data",
          "data": {
            "text/plain": [
              "<Figure size 540x288 with 10 Axes>"
            ],
            "image/png": "[encoded data removed]"
          },
          "metadata": {
            "needs_background": "light"
          }
        }
      ]
    },
    {
      "cell_type": "markdown",
      "metadata": {
        "id": "EpZ8NK8_CAqW"
      },
      "source": [
        "## Fonctions à compléter"
      ]
    },
    {
      "cell_type": "code",
      "metadata": {
        "id": "VSc19WnyQsFv"
      },
      "source": [
        "def accuracy(y, y_pred) :\n",
        "    # todo : nombre d'éléments à classifier.\n",
        "    card_D = y.shape[0]\n",
        " \n",
        "    # todo : calcul du nombre d'éléments bien classifiés.\n",
        "    # card_C=((torch.eq(y,y_pred).sum(1))==10).sum().item()\n",
        "    card_C=torch.sum(torch.argmax(softmax( y_pred), axis=1) == torch.argmax(y, axis=1))\n",
        "    \n",
        "    # todo : calcul de la précision de classification.\n",
        "    acc = card_C/card_D\n",
        " \n",
        "    return acc, (card_C, card_D)\n",
        "\n",
        "def accuracy_and_loss_whole_dataset(data_loader, model):\n",
        "    cardinal = 0\n",
        "    loss     = 0.\n",
        "    n_accurate_preds  = 0.\n",
        "\n",
        "    for x, y in data_loader:\n",
        "        x, y = reshape_input(x, y)\n",
        "        y_pred                = model.forward(x)\n",
        "        xentrp                = cross_entropy(y, y_pred)\n",
        "        # print(xentrp)\n",
        "        _, (n_acc, n_samples) = accuracy(y, y_pred)\n",
        "        # print(f'No. accurate:{n_acc}')\n",
        "        # print(f'No. of sample:{n_samples}')\n",
        "\n",
        "        cardinal = cardinal + n_samples\n",
        "        loss     = loss + xentrp\n",
        "        n_accurate_preds  = n_accurate_preds + n_acc\n",
        "        # print(loss)\n",
        "    # print(f\"total  loss: {loss}\")\n",
        "    loss = loss / float(cardinal)\n",
        "    # print(f\"cardinal is: {cardinal}\")\n",
        "    # print(f\"mean loss:{loss}\")\n",
        "    acc  = n_accurate_preds / float(cardinal)\n",
        "\n",
        "    return acc, loss\n",
        "\n",
        "def cross_entropy(y, y_pred): \n",
        "    # todo : calcul de la valeur d'entropie croisée.\n",
        "    loss=(-1) *torch.sum(y*torch.log(softmax(y_pred)))\n",
        "    return loss\n",
        "\n",
        "def softmax(x, axis=-1):\n",
        "    # assurez vous que la fonction est numeriquement stable\n",
        "    # e.g. softmax(np.array([1000, 10000, 100000], ndim=2))\n",
        "\n",
        "    # todo : calcul des valeurs de softmax(x)\n",
        "    max,idx=torch.max(x, axis, keepdims=True)\n",
        "    x=torch.subtract(x,max)\n",
        "    values=torch.divide(torch.exp(x),torch.sum(torch.exp(x), axis=-1, keepdims=True))\n",
        "    values=torch.clip(values, min=1e-5, max=1-1e-5)\n",
        "    return values\n",
        "  \n",
        "def inputs_tilde(x, axis=-1):\n",
        "    # augments the inputs `x` with ones along `axis`\n",
        "    # todo : implémenter code ici.\n",
        "    x_tilde = torch.cat((x, torch.Tensor([[1]]*len(x))), axis)\n",
        "    return x_tilde"
      ],
      "execution_count": null,
      "outputs": []
    },
    {
      "cell_type": "code",
      "metadata": {
        "id": "ya7J-i89GHnp"
      },
      "source": [
        "class LinearModel:\n",
        "    def __init__(self, num_features, num_classes):\n",
        "      self.params = torch.normal(0, 0.01, (num_features + 1, num_classes)) #theta random initialization (785,10)\n",
        "      \n",
        "      self.t = 0 \n",
        "      self.m_t = 0 # pour Adam: moyennes mobiles du gradient\n",
        "      self.v_t = 0 # pour Adam: moyennes mobiles du carré du gradient\n",
        "        \n",
        "    def forward(self, x):\n",
        "      # todo : implémenter calcul des outputs en fonction des inputs `x`.\n",
        "      inputs = inputs_tilde(x)\n",
        "      outputs = torch.matmul(inputs,self.params) #theta*x matrix multiplication of (batch_size,785)*(785,10) result y_pred:(batch_size,10)\n",
        "      return outputs\n",
        "\n",
        "    def get_grads(self, y, y_pred, X): \n",
        "      # todo : implémenter calcul des gradients.\n",
        "      grads = (1/len(y)) * (torch.matmul(inputs_tilde(X).T,softmax( y_pred))-torch.matmul(inputs_tilde(X).T,y)) #(785,batch_size)*(batch_size,10) grads:(785,10)\n",
        "      return grads\n",
        "\n",
        "    def sgd_update(self, lr, grads):\n",
        "      # TODO : implémenter mise à jour des paramètres ici.\n",
        "      self.params=self.params-lr*grads #(785,10)-lr*(785,10)\n",
        "      # return self.params\n",
        "    \n",
        "    def adam_update(self, lr, grads):\n",
        "      # TODO : implémenter mise à jour des paramètres ici.\n",
        "      beta_1 = 0.9\n",
        "      beta_2 = 0.999\n",
        "      epsilon = 1e-8\n",
        "\n",
        "      self.m_t = beta_1*self.m_t + (1-beta_1)* grads\n",
        "      self.v_t = beta_2*self.v_t + (1-beta_2)* (grads * grads)\n",
        "      self.t +=1\t\n",
        "      m_t_c = self.m_t/(1-(beta_1**self.t))\t\n",
        "      v_t_c = self.v_t/(1-(beta_2**self.t))\n",
        "      self.params = self.params - (lr*m_t_c)/(torch.sqrt(v_t_c)+epsilon)\n",
        "\n",
        "def train(model, lr=0.1, nb_epochs=10, sgd=True, data_loader_train=None, data_loader_val=None):\n",
        "    best_model = None\n",
        "    best_val_accuracy = 0\n",
        "    \n",
        "    best_accuracy = 0\n",
        "    logger = Logger()\n",
        "\n",
        "    for epoch in range(nb_epochs+1):\n",
        "        # at epoch 0 evaluate random initial model\n",
        "        #   then for subsequent epochs, do optimize before evaluation.\n",
        "        if epoch > 0:\n",
        "          # print(f\"epoch is: {epoch}\")\n",
        "          for x, y in data_loader_train:\n",
        "              x, y = reshape_input(x, y)\n",
        "              y_pred = model.forward(x)\n",
        "              loss = cross_entropy(y, y_pred) #is it needed to calculate loss?\n",
        "              grads = model.get_grads(y, y_pred, x)\n",
        "              if sgd:\n",
        "                model.sgd_update(lr, grads)\n",
        "                # print(model.params.shape)\n",
        "              else:\n",
        "                model.adam_update(lr, grads)\n",
        "        \n",
        "        accuracy_train, loss_train = accuracy_and_loss_whole_dataset(data_loader_train, model)\n",
        "        accuracy_val, loss_val = accuracy_and_loss_whole_dataset(data_loader_val, model)\n",
        "        # print(f\"accuracy of valid:{accuracy_val}\")\n",
        "        \n",
        "        if accuracy_val > best_accuracy:\n",
        "          pass   # TODO : record the best model parameters and best validation accuracy\n",
        "          best_accuracy=accuracy_val\n",
        "          best_val_accuracy=best_accuracy\n",
        "          best_model=model\n",
        "\n",
        "        logger.log(accuracy_train, loss_train, accuracy_val, loss_val)\n",
        "        if epoch % 5 == 0: # prints every 5 epochs, you can change it to % 1 for example to print each epoch\n",
        "          print(f\"Epoch {epoch:2d}, \\\n",
        "                  Train: loss={loss_train.item():.3f}, accuracy={accuracy_train.item()*100:.1f}%, \\\n",
        "                  Valid: loss={loss_val.item():.3f}, accuracy={accuracy_val.item()*100:.1f}%\", flush=True)\n",
        "\n",
        "    return best_model, best_val_accuracy, logger\n"
      ],
      "execution_count": null,
      "outputs": []
    },
    {
      "cell_type": "markdown",
      "source": [
        "## Évaluation"
      ],
      "metadata": {
        "id": "_zUGBmtf9pcA"
      }
    },
    {
      "cell_type": "markdown",
      "source": [
        "### SGD: Recherche d'hyperparamètres"
      ],
      "metadata": {
        "id": "eUuU5n979pcD"
      }
    },
    {
      "cell_type": "code",
      "source": [
        "# SGD\n",
        "# Montrez les résultats pour différents taux d'apprentissage, e.g. 0.1, 0.01, 0.001, et différentes tailles de mini-batch, e.g. 1, 20, 200, 1000.\n",
        "batch_size_list = [1,20,200,1000]   # Define ranges in a list\n",
        "lr_list = [0.001, 0.01, 0.1]           # Define ranges in a list\n",
        "\n",
        "with torch.no_grad():\n",
        "  for lr in lr_list:\n",
        "    for batch_size in batch_size_list:\n",
        "      print(\"------------------------------------------------------------------\")\n",
        "      print(\"Training model with a learning rate of {0} and a batch size of {1}\".format(lr, batch_size))\n",
        "      data_loader_train, data_loader_val, data_loader_test = get_fashion_mnist_dataloaders(val_percentage=0.1, batch_size=batch_size)\n",
        "      \n",
        "      model = LinearModel(num_features=784, num_classes=10)\n",
        "      _, val_accuracy, _ = train(model,lr=lr, nb_epochs=5, sgd=True, data_loader_train=data_loader_train, data_loader_val=data_loader_val)\n",
        "      print(f\"validation accuracy = {val_accuracy*100:.3f}\")"
      ],
      "metadata": {
        "id": "4R_6Rxgq9pcE",
        "colab": {
          "base_uri": "https://localhost:8080/"
        },
        "outputId": "e1c4d845-b820-4c61-e71a-4e3c92d33cd3"
      },
      "execution_count": null,
      "outputs": [
        {
          "output_type": "stream",
          "name": "stdout",
          "text": [
            "------------------------------------------------------------------\n",
            "Training model with a learning rate of 0.001 and a batch size of 1\n"
          ]
        },
        {
          "output_type": "stream",
          "name": "stderr",
          "text": [
            "/usr/local/lib/python3.7/dist-packages/torch/utils/data/dataloader.py:481: UserWarning: This DataLoader will create 4 worker processes in total. Our suggested max number of worker in current system is 2, which is smaller than what this DataLoader is going to create. Please be aware that excessive worker creation might get DataLoader running slow or even freeze, lower the worker number to avoid potential slowness/freeze if necessary.\n",
            "  cpuset_checked))\n"
          ]
        },
        {
          "output_type": "stream",
          "name": "stdout",
          "text": [
            "Epoch  0,                   Train: loss=2.299, accuracy=7.8%,                   Valid: loss=2.298, accuracy=7.8%\n",
            "Epoch  5,                   Train: loss=0.441, accuracy=84.7%,                   Valid: loss=0.459, accuracy=84.6%\n",
            "validation accuracy = 84.683\n",
            "------------------------------------------------------------------\n",
            "Training model with a learning rate of 0.001 and a batch size of 20\n",
            "Epoch  0,                   Train: loss=2.323, accuracy=12.8%,                   Valid: loss=2.321, accuracy=13.3%\n",
            "Epoch  5,                   Train: loss=0.666, accuracy=79.0%,                   Valid: loss=0.687, accuracy=78.5%\n",
            "validation accuracy = 78.450\n",
            "------------------------------------------------------------------\n",
            "Training model with a learning rate of 0.001 and a batch size of 200\n",
            "Epoch  0,                   Train: loss=2.308, accuracy=5.9%,                   Valid: loss=2.309, accuracy=5.9%\n",
            "Epoch  5,                   Train: loss=1.201, accuracy=67.3%,                   Valid: loss=1.196, accuracy=67.5%\n",
            "validation accuracy = 67.533\n",
            "------------------------------------------------------------------\n",
            "Training model with a learning rate of 0.001 and a batch size of 1000\n",
            "Epoch  0,                   Train: loss=2.304, accuracy=14.6%,                   Valid: loss=2.297, accuracy=16.1%\n",
            "Epoch  5,                   Train: loss=1.840, accuracy=63.0%,                   Valid: loss=1.830, accuracy=64.2%\n",
            "validation accuracy = 64.183\n",
            "------------------------------------------------------------------\n",
            "Training model with a learning rate of 0.01 and a batch size of 1\n",
            "Epoch  0,                   Train: loss=2.342, accuracy=1.7%,                   Valid: loss=2.340, accuracy=1.6%\n",
            "Epoch  5,                   Train: loss=0.498, accuracy=83.8%,                   Valid: loss=0.535, accuracy=82.9%\n",
            "validation accuracy = 84.567\n",
            "------------------------------------------------------------------\n",
            "Training model with a learning rate of 0.01 and a batch size of 20\n",
            "Epoch  0,                   Train: loss=2.310, accuracy=11.3%,                   Valid: loss=2.310, accuracy=10.6%\n",
            "Epoch  5,                   Train: loss=0.467, accuracy=84.3%,                   Valid: loss=0.467, accuracy=84.5%\n",
            "validation accuracy = 84.550\n",
            "------------------------------------------------------------------\n",
            "Training model with a learning rate of 0.01 and a batch size of 200\n",
            "Epoch  0,                   Train: loss=2.305, accuracy=4.6%,                   Valid: loss=2.305, accuracy=4.3%\n",
            "Epoch  5,                   Train: loss=0.667, accuracy=79.1%,                   Valid: loss=0.677, accuracy=79.2%\n",
            "validation accuracy = 79.200\n",
            "------------------------------------------------------------------\n",
            "Training model with a learning rate of 0.01 and a batch size of 1000\n",
            "Epoch  0,                   Train: loss=2.290, accuracy=12.1%,                   Valid: loss=2.289, accuracy=12.5%\n",
            "Epoch  5,                   Train: loss=0.976, accuracy=70.0%,                   Valid: loss=0.973, accuracy=70.1%\n",
            "validation accuracy = 70.050\n",
            "------------------------------------------------------------------\n",
            "Training model with a learning rate of 0.1 and a batch size of 1\n",
            "Epoch  0,                   Train: loss=2.321, accuracy=5.8%,                   Valid: loss=2.323, accuracy=5.6%\n",
            "Epoch  5,                   Train: loss=1.571, accuracy=81.4%,                   Valid: loss=1.710, accuracy=80.3%\n",
            "validation accuracy = 83.100\n",
            "------------------------------------------------------------------\n",
            "Training model with a learning rate of 0.1 and a batch size of 20\n",
            "Epoch  0,                   Train: loss=2.310, accuracy=7.3%,                   Valid: loss=2.311, accuracy=7.1%\n",
            "Epoch  5,                   Train: loss=0.526, accuracy=83.0%,                   Valid: loss=0.564, accuracy=82.3%\n",
            "validation accuracy = 84.583\n",
            "------------------------------------------------------------------\n",
            "Training model with a learning rate of 0.1 and a batch size of 200\n",
            "Epoch  0,                   Train: loss=2.284, accuracy=21.3%,                   Valid: loss=2.286, accuracy=21.2%\n",
            "Epoch  5,                   Train: loss=0.469, accuracy=84.3%,                   Valid: loss=0.467, accuracy=84.6%\n",
            "validation accuracy = 84.583\n",
            "------------------------------------------------------------------\n",
            "Training model with a learning rate of 0.1 and a batch size of 1000\n",
            "Epoch  0,                   Train: loss=2.309, accuracy=1.9%,                   Valid: loss=2.309, accuracy=1.8%\n",
            "Epoch  5,                   Train: loss=0.585, accuracy=81.2%,                   Valid: loss=0.592, accuracy=80.9%\n",
            "validation accuracy = 80.883\n"
          ]
        }
      ]
    },
    {
      "cell_type": "markdown",
      "source": [
        "#### **Tableau pour la précision sur l'ensemble de validation**\n",
        "N.B. que les lignes correspondent aux valeurs du taux d'apprentisage et les colonnes correspondent au valeur du batch size. Les valeurs ci-dessous sont donné comme exemples; remplacez-les par les valeurs que vous avez utilisées pour votre recherche d'hyperparamètres.\n",
        "\n",
        "learning rate\\batch_size  | 1 | 20 | 200 | 1000 \n",
        "-------------------|------------------|------------------|------------------|------------------|\n",
        "**0.1**   | 84.7  | 78.5 | 67.5 | 64.2 | - |\n",
        "**0.01** | 84.6  | 84.5 | 79.2 | 70.1 | - |\n",
        "**0.001**  | 83.1  | 84.6 | 84.6 | 80.9 | - |"
      ],
      "metadata": {
        "id": "AmvtxoLo9pcF"
      }
    },
    {
      "cell_type": "markdown",
      "source": [
        "### SGD: Analyse du meilleur modèle"
      ],
      "metadata": {
        "id": "8PvrqlWt9pcG"
      }
    },
    {
      "cell_type": "code",
      "metadata": {
        "id": "uQ8Vc8JM9pcG",
        "colab": {
          "base_uri": "https://localhost:8080/",
          "height": 580
        },
        "outputId": "1b195689-6c44-4f45-f466-c223a15d6484"
      },
      "source": [
        "# SGD\n",
        "# Montrez les résultats pour la meilleure configuration trouvez ci-dessus.\n",
        "batch_size = 1 # TODO: Vous devez modifier cette valeur avec la meilleur que vous avez eu.\n",
        "lr = 0.001         # TODO: Vous devez modifier cette valeur avec la meilleur que vous avez eu.\n",
        "\n",
        "with torch.no_grad():\n",
        "  data_loader_train, data_loader_val, data_loader_test = get_fashion_mnist_dataloaders(val_percentage=0.1, batch_size=batch_size)\n",
        "\n",
        "  model = LinearModel(num_features=784, num_classes=10)\n",
        "  best_model, best_val_accuracy, logger = train(model,lr=lr, nb_epochs=5, sgd=True, \n",
        "                                                data_loader_train=data_loader_train, data_loader_val=data_loader_val)\n",
        "  logger.plot_loss_and_accuracy()\n",
        "  print(f\"Best validation accuracy = {best_val_accuracy*100:.3f}\")\n",
        "\n",
        "  accuracy_test, loss_test = accuracy_and_loss_whole_dataset(data_loader_test, best_model)\n",
        "print(\"Evaluation of the best training model over test set\")\n",
        "print(\"------\")\n",
        "print(f\"Loss : {loss_test:.3f}\")\n",
        "print(f\"Accuracy : {accuracy_test*100.:.3f}\")"
      ],
      "execution_count": null,
      "outputs": [
        {
          "output_type": "stream",
          "name": "stderr",
          "text": [
            "/usr/local/lib/python3.7/dist-packages/torch/utils/data/dataloader.py:481: UserWarning: This DataLoader will create 4 worker processes in total. Our suggested max number of worker in current system is 2, which is smaller than what this DataLoader is going to create. Please be aware that excessive worker creation might get DataLoader running slow or even freeze, lower the worker number to avoid potential slowness/freeze if necessary.\n",
            "  cpuset_checked))\n"
          ]
        },
        {
          "output_type": "stream",
          "name": "stdout",
          "text": [
            "Epoch  0,                   Train: loss=2.314, accuracy=3.1%,                   Valid: loss=2.315, accuracy=3.4%\n",
            "Epoch  5,                   Train: loss=0.434, accuracy=85.4%,                   Valid: loss=0.454, accuracy=85.2%\n",
            "Best validation accuracy = 85.183\n",
            "Evaluation of the best training model over test set\n",
            "------\n",
            "Loss : 0.474\n",
            "Accuracy : 83.530\n"
          ]
        },
        {
          "output_type": "display_data",
          "data": {
            "image/png": "[encoded data removed]",
            "text/plain": [
              "<Figure size 864x432 with 2 Axes>"
            ]
          },
          "metadata": {
            "needs_background": "light"
          }
        }
      ]
    },
    {
      "cell_type": "markdown",
      "source": [
        "### Adam: Recherche d'hyperparamètres\n",
        "\n",
        "Implémentez Adam, répétez les deux étapes précédentes (recherche d'hyperparamètres et analyse du meilleur modèle) cette fois en utilisat Adam, et comparez les performances finales avec votre meilleur modèle SGD."
      ],
      "metadata": {
        "id": "BOZXfA919pcH"
      }
    },
    {
      "cell_type": "code",
      "source": [
        "# ADAM\n",
        "# Montrez les résultats pour différents taux d'apprentissage, e.g. 0.1, 0.01, 0.001, et différentes tailles de mini-batch, e.g. 1, 20, 200, 1000.\n",
        "batch_size_list = [1,20,200,1000]   # Define ranges in a list  \n",
        "lr_list = [0.001, 0.01, 0.1]           # Define ranges in a list\n",
        "\n",
        "with torch.no_grad():\n",
        "  for lr in lr_list:\n",
        "    for batch_size in batch_size_list:\n",
        "      print(\"------------------------------------------------------------------\")\n",
        "      print(\"Training model with a learning rate of {0} and a batch size of {1}\".format(lr, batch_size))\n",
        "      data_loader_train, data_loader_val, data_loader_test = get_fashion_mnist_dataloaders(val_percentage=0.1, batch_size=batch_size)\n",
        "      \n",
        "      model = LinearModel(num_features=784, num_classes=10)\n",
        "      _, val_accuracy, _ = train(model,lr=lr, nb_epochs=5, sgd=False, data_loader_train=data_loader_train, data_loader_val=data_loader_val)\n",
        "      print(f\"validation accuracy = {val_accuracy*100:.3f}\")"
      ],
      "metadata": {
        "id": "Ze9D0Zpi9pcI",
        "colab": {
          "base_uri": "https://localhost:8080/"
        },
        "outputId": "a831772d-329c-4e4d-c53e-f5834de8dc63"
      },
      "execution_count": null,
      "outputs": [
        {
          "output_type": "stream",
          "name": "stdout",
          "text": [
            "------------------------------------------------------------------\n",
            "Training model with a learning rate of 0.001 and a batch size of 1\n"
          ]
        },
        {
          "output_type": "stream",
          "name": "stderr",
          "text": [
            "/usr/local/lib/python3.7/dist-packages/torch/utils/data/dataloader.py:481: UserWarning: This DataLoader will create 4 worker processes in total. Our suggested max number of worker in current system is 2, which is smaller than what this DataLoader is going to create. Please be aware that excessive worker creation might get DataLoader running slow or even freeze, lower the worker number to avoid potential slowness/freeze if necessary.\n",
            "  cpuset_checked))\n"
          ]
        },
        {
          "output_type": "stream",
          "name": "stdout",
          "text": [
            "Epoch  0,                   Train: loss=2.315, accuracy=10.2%,                   Valid: loss=2.315, accuracy=10.0%\n",
            "Epoch  5,                   Train: loss=1.106, accuracy=85.3%,                   Valid: loss=1.306, accuracy=83.3%\n",
            "validation accuracy = 83.300\n",
            "------------------------------------------------------------------\n",
            "Training model with a learning rate of 0.001 and a batch size of 20\n",
            "Epoch  0,                   Train: loss=2.299, accuracy=10.1%,                   Valid: loss=2.298, accuracy=10.5%\n",
            "Epoch  5,                   Train: loss=0.531, accuracy=84.2%,                   Valid: loss=0.594, accuracy=83.2%\n",
            "validation accuracy = 83.550\n",
            "------------------------------------------------------------------\n",
            "Training model with a learning rate of 0.001 and a batch size of 200\n",
            "Epoch  0,                   Train: loss=2.303, accuracy=15.3%,                   Valid: loss=2.301, accuracy=15.2%\n",
            "Epoch  5,                   Train: loss=0.407, accuracy=85.5%,                   Valid: loss=0.460, accuracy=84.4%\n",
            "validation accuracy = 84.400\n",
            "------------------------------------------------------------------\n",
            "Training model with a learning rate of 0.001 and a batch size of 1000\n",
            "Epoch  0,                   Train: loss=2.303, accuracy=14.0%,                   Valid: loss=2.300, accuracy=14.6%\n",
            "Epoch  5,                   Train: loss=0.421, accuracy=85.7%,                   Valid: loss=0.435, accuracy=85.3%\n",
            "validation accuracy = 85.283\n",
            "------------------------------------------------------------------\n",
            "Training model with a learning rate of 0.01 and a batch size of 1\n",
            "Epoch  0,                   Train: loss=2.337, accuracy=5.8%,                   Valid: loss=2.337, accuracy=6.0%\n",
            "Epoch  5,                   Train: loss=1.519, accuracy=81.3%,                   Valid: loss=1.648, accuracy=80.4%\n",
            "validation accuracy = 83.283\n",
            "------------------------------------------------------------------\n",
            "Training model with a learning rate of 0.01 and a batch size of 20\n",
            "Epoch  0,                   Train: loss=2.311, accuracy=5.2%,                   Valid: loss=2.310, accuracy=5.5%\n",
            "Epoch  5,                   Train: loss=0.547, accuracy=83.3%,                   Valid: loss=0.669, accuracy=82.1%\n",
            "validation accuracy = 84.050\n",
            "------------------------------------------------------------------\n",
            "Training model with a learning rate of 0.01 and a batch size of 200\n",
            "Epoch  0,                   Train: loss=2.273, accuracy=19.2%,                   Valid: loss=2.271, accuracy=19.7%\n",
            "Epoch  5,                   Train: loss=0.394, accuracy=86.1%,                   Valid: loss=0.430, accuracy=85.2%\n",
            "validation accuracy = 85.433\n",
            "------------------------------------------------------------------\n",
            "Training model with a learning rate of 0.01 and a batch size of 1000\n",
            "Epoch  0,                   Train: loss=2.322, accuracy=13.4%,                   Valid: loss=2.322, accuracy=13.5%\n",
            "Epoch  5,                   Train: loss=0.427, accuracy=85.2%,                   Valid: loss=0.447, accuracy=84.3%\n",
            "validation accuracy = 84.300\n",
            "------------------------------------------------------------------\n",
            "Training model with a learning rate of 0.1 and a batch size of 1\n",
            "Epoch  0,                   Train: loss=2.286, accuracy=14.0%,                   Valid: loss=2.289, accuracy=13.6%\n",
            "Epoch  5,                   Train: loss=2.347, accuracy=72.9%,                   Valid: loss=2.572, accuracy=70.5%\n",
            "validation accuracy = 82.750\n",
            "------------------------------------------------------------------\n",
            "Training model with a learning rate of 0.1 and a batch size of 20\n",
            "Epoch  0,                   Train: loss=2.306, accuracy=10.4%,                   Valid: loss=2.307, accuracy=10.4%\n",
            "Epoch  5,                   Train: loss=0.595, accuracy=82.8%,                   Valid: loss=0.665, accuracy=81.3%\n",
            "validation accuracy = 84.900\n",
            "------------------------------------------------------------------\n",
            "Training model with a learning rate of 0.1 and a batch size of 200\n",
            "Epoch  0,                   Train: loss=2.318, accuracy=10.2%,                   Valid: loss=2.320, accuracy=10.0%\n",
            "Epoch  5,                   Train: loss=0.387, accuracy=86.3%,                   Valid: loss=0.427, accuracy=84.8%\n",
            "validation accuracy = 85.100\n",
            "------------------------------------------------------------------\n",
            "Training model with a learning rate of 0.1 and a batch size of 1000\n",
            "Epoch  0,                   Train: loss=2.289, accuracy=10.0%,                   Valid: loss=2.289, accuracy=9.7%\n",
            "Epoch  5,                   Train: loss=0.423, accuracy=85.3%,                   Valid: loss=0.453, accuracy=84.3%\n",
            "validation accuracy = 84.633\n"
          ]
        }
      ]
    },
    {
      "cell_type": "markdown",
      "source": [
        "#### **Tableau pour la précision sur l'ensemble de validation**\n",
        "N.B. que les lignes correspondent aux valeurs du taux d'apprentisage et les colonnes correspondent au valeur du batch size. Les valeurs ci-dessous sont donné comme exemples; remplacez-les par les valeurs que vous avez utilisées pour votre recherche d'hyperparamètres.\n",
        "\n",
        "learning rate\\batch_size  | 1 | 20 | 200 | 1000 \n",
        "-------------------|------------------|------------------|------------------|------------------|\n",
        "**0.1**   | 83.3  | 83.55 | 84.4 | 85.3 | - |\n",
        "**0.01** | 84.28  | 84.05 | 85.43 | 84.3 | - |\n",
        "**0.001**  | 82.75  | 84.9 | 85.1 | 84.63 | - |"
      ],
      "metadata": {
        "id": "Cr9_MzpX_CvO"
      }
    },
    {
      "cell_type": "markdown",
      "source": [
        "### Adam: Analyse du meilleur modèle"
      ],
      "metadata": {
        "id": "2Me7IOblUrYw"
      }
    },
    {
      "cell_type": "code",
      "source": [
        "# ADAM\n",
        "# Montrez les résultats pour la meilleure configuration trouvez ci-dessus.\n",
        "batch_size = 200 # TODO: Vous devez modifier cette valeur avec la meilleur que vous avez eu.\n",
        "lr = 0.01         # TODO: Vous devez modifier cette valeur avec la meilleur que vous avez eu.\n",
        "\n",
        "with torch.no_grad():\n",
        "  data_loader_train, data_loader_val, data_loader_test = get_fashion_mnist_dataloaders(val_percentage=0.1, batch_size=batch_size)\n",
        "\n",
        "  model = LinearModel(num_features=784, num_classes=10)\n",
        "  best_model, best_val_accuracy, logger = train(model,lr=lr, nb_epochs=5, sgd=False, \n",
        "                                                data_loader_train=data_loader_train, data_loader_val=data_loader_val)\n",
        "  logger.plot_loss_and_accuracy()\n",
        "  print(f\"Best validation accuracy = {best_val_accuracy*100:.3f}\")\n",
        "\n",
        "  accuracy_test, loss_test = accuracy_and_loss_whole_dataset(data_loader_test, best_model)\n",
        "print(\"Evaluation of the best training model over test set\")\n",
        "print(\"------\")\n",
        "print(f\"Loss : {loss_test:.3f}\")\n",
        "print(f\"Accuracy : {accuracy_test*100.:.3f}\")"
      ],
      "metadata": {
        "id": "Ndf_GP6XPV-U",
        "colab": {
          "base_uri": "https://localhost:8080/",
          "height": 580
        },
        "outputId": "c32b1061-94ee-4f6e-c102-f6db19e06ce5"
      },
      "execution_count": null,
      "outputs": [
        {
          "output_type": "stream",
          "name": "stderr",
          "text": [
            "/usr/local/lib/python3.7/dist-packages/torch/utils/data/dataloader.py:481: UserWarning: This DataLoader will create 4 worker processes in total. Our suggested max number of worker in current system is 2, which is smaller than what this DataLoader is going to create. Please be aware that excessive worker creation might get DataLoader running slow or even freeze, lower the worker number to avoid potential slowness/freeze if necessary.\n",
            "  cpuset_checked))\n"
          ]
        },
        {
          "output_type": "stream",
          "name": "stdout",
          "text": [
            "Epoch  0,                   Train: loss=2.288, accuracy=13.8%,                   Valid: loss=2.289, accuracy=13.5%\n",
            "Epoch  5,                   Train: loss=0.408, accuracy=86.1%,                   Valid: loss=0.443, accuracy=84.6%\n",
            "Best validation accuracy = 84.617\n",
            "Evaluation of the best training model over test set\n",
            "------\n",
            "Loss : 0.484\n",
            "Accuracy : 83.790\n"
          ]
        },
        {
          "output_type": "display_data",
          "data": {
            "image/png": "[encoded data removed]",
            "text/plain": [
              "<Figure size 864x432 with 2 Axes>"
            ]
          },
          "metadata": {
            "needs_background": "light"
          }
        }
      ]
    },
    {
      "cell_type": "markdown",
      "source": [
        "## Analyse des Résultats"
      ],
      "metadata": {
        "id": "6LRkxtUD_RVd"
      }
    },
    {
      "cell_type": "markdown",
      "source": [
        "### Dans la régression logistique à une seule couche, les performances de Mini-batch GD et d'Adam sont proches l'une de l'autre.\n",
        "###Les résultats de mini-batch GD montrent que batch-size=1 a les meilleures performances et généralement avec un taux d'apprentissage décroissant, nous aurons de meilleures performances. Cependant, la diminution des performances augmente le temps de fonctionnement.\n",
        "### également en raison du petit nombre d'époques, la différence entre SGD et Adam n'est pas claire, mais on peut voir qu'Adam passe rapidement à des précisions plus élevées. \n",
        "###Veuillez également noter qu'en raison de l'initialisation aléatoire des paramètres, les résultats sont susceptibles de changer à chaque exécution. "
      ],
      "metadata": {
        "id": "8NIRJe-8_fbP"
      }
    },
    {
      "cell_type": "markdown",
      "metadata": {
        "id": "IficnxEMMcNo"
      },
      "source": [
        "# Partie 3 (20 points)\n",
        "\n",
        "Pour cette partie, vous pouvez travailler en groupes de 2, mais il faut écrire sa propre dérivation et soumettre son propre rapport. Si vous travaillez avec un partenaire, il faut indiquer leur nom dans votre rapport."
      ]
    },
    {
      "cell_type": "markdown",
      "metadata": {
        "id": "Zmb_putke8pl"
      },
      "source": [
        "### Problème"
      ]
    },
    {
      "cell_type": "markdown",
      "metadata": {
        "id": "CRioLmIDMcP8"
      },
      "source": [
        "![picture](https://drive.google.com/uc?id=17_N7pIrf5pypQKiUh5cM7SX6raZUBcJC)\n",
        "\n",
        "Considérons maintenant un réseau de neurones avec une couche d'entrée avec $D=784$ unités, $L$ couches cachées, chacune avec 300 unités et un vecteur de sortie $\\mathbf{y}$ de dimension $K$. Vous avez $i = 1, .., N$ exemples dans un ensemble d'apprentissage, où chaque ${\\bf x}_i \\in \\mathbb{R}^{784}$ est un vecteur de caractéristiques (features). $\\mathbf{y}$ est un vecteur du type *one-hot* -- un vecteur de zéros avec un seul 1 pour indiquer que la classe $C=k$ dans la dimension $k$. Par exemple, le vecteur $\\mathbf{y}=[0, 1, 0, \\cdots, 0]^T$ représente la deuxième classe. La fonction de perte est donnée par\n",
        "\\begin{equation}\n",
        "\\mathcal{L} = -\\sum_{i=1}^{N}\\sum_{k=1}^{K}y_{k,i}\\log (f_k( {\\bf x}_i )  ) \n",
        "\\end{equation}\n",
        "\n",
        "La fonction d'activation de la couche finale a la forme  ${\\bf f} = [f_1, ..., f_K]$ donné par la fonction d'activation softmax: \n",
        "\\begin{equation}\n",
        "f_k( {\\bf a}^{(L+1)}({\\bf x}_i) ) = \\frac{\\exp(a_k^{(L+1)})}{\\sum_{c=1}^{K}\\exp(a_c^{(L+1)})}, \\;\\;\\;\\;\n",
        "\\nonumber\n",
        "\\end{equation}\n",
        "\n",
        "et les couches cachées utilisent une fonction d'activation de type ReLU:\n",
        "\\begin{equation}\n",
        "  {\\bf h}^{(l)}({\\bf a}^{(l)}({\\bf x}_i)) = \\text{ReLU}({\\bf a}^{(l)}({\\bf x}_i) = \\max\\Big(0, \\, \\, {\\bf a}^{(l)}({\\bf x}_i)\\Big)\n",
        "\\end{equation}\n",
        "\n",
        "où ${\\bf a}^{(l)}$ est le vecteur résultant du calcul de la préactivation habituelle ${\\bf a}^{(l)}={\\bf W}^{(l)}{\\bf h}^{(l-1)} + {\\bf b}^{(l)}$, qui pourrait être simplifiée à ${\\boldsymbol \\theta}^{(l)}\\tilde{\\bf h}^{(l-1)}$ en utilisant l'astuce de définir $\\tilde{\\bf h}$ comme ${\\bf h}$ avec un 1 concaténé à la fin du vecteur.\n",
        "\n"
      ]
    },
    {
      "cell_type": "markdown",
      "metadata": {
        "id": "PzMpz3Zse0t9"
      },
      "source": [
        "### Questions"
      ]
    },
    {
      "cell_type": "markdown",
      "metadata": {
        "id": "wK8gnygxMcSh"
      },
      "source": [
        "* a) (10 points) Donnez le pseudocode incluant des *calculs matriciels—vectoriels* détaillés pour l'algorithme de rétropropagation pour calculer le gradient pour les paramètres de chaque couche **étant donné un exemple d'entraînement**."
      ]
    },
    {
      "cell_type": "markdown",
      "metadata": {
        "id": "Y431_w4gMcX2"
      },
      "source": [
        "* b) (10 points) \n",
        "Implémentez l'optimisation basée sur le gradient de ce réseau en Pytorch.\n",
        "Utilisez le code squelette ci-dessous comme point de départ et implémentez les mathématiques de l'algorithme de rétropropagation que vous avez décrit à la question précédente.Utilisez encore l'ensemble de données de Fashion MNIST (voir Partie 2). **Comparez différents modèles ayant différentes largeurs (nombre d'unités) et profondeurs (nombre de couches)**. Ici encore, n'utilisez l'ensemble de test que pour votre expérience finale lorsque vous pensez avoir obtenu votre meilleur modèle.\n",
        "\n",
        "**IMPORTANT**\n",
        "\n",
        "L'objectif du TP est de vous faire implémenter la rétropropagation à la main. **Il est donc interdit d'utiliser les capacités de construction de modèles ou de différentiation automatique de pytorch -- par exemple, aucun appels à torch.nn, torch.autograd ou à la méthode .backward().** L'objectif est d'implémenter un modèle de classification logistique ainsi que son entainement en utilisant uniquement des opérations matricielles de base fournies par PyTorch e.g. torch.sum(), torch.matmul(), etc."
      ]
    },
    {
      "cell_type": "markdown",
      "source": [
        "## Votre pseudocode:"
      ],
      "metadata": {
        "id": "F1mpuG2cwER-"
      }
    },
    {
      "cell_type": "markdown",
      "source": [
        "#### Algorithme de rétropopagation dans un réseau de neurones pour un exemple $\\tilde{x}_i$:\n",
        "\n"
      ],
      "metadata": {
        "id": "qY2X9goYwMDs"
      }
    },
    {
      "cell_type": "code",
      "source": [
        "for l=1 to L+1 do{\n",
        "  if l==1 then{\n",
        "    theta[l]= random assign matrix[785*300]\n",
        "  }\n",
        "  if l=L+1 then {\n",
        "      theta[l]= random assign matrix[301*10]  #K=10\n",
        "  }\n",
        "\n",
        "  else then {\n",
        "    theta[l]= random assign matrix[301*300]\n",
        "  }\n",
        "}\n",
        "\n",
        "for epoch in epochs:{\n",
        "  #feed forward\n",
        "  h[0]=x_i # the input layer, x_i has bias row of 1\n",
        "  for l=1 to L+1:{\n",
        "    a[l]=h[l-1]%*%theta[l]\n",
        "    if l<L+1 then{\n",
        "        h[l]=Relu(a[l]) # Relu is activation function\n",
        "    }\n",
        "    elif l==L+1 then {\n",
        "        h[l]=softmax(a[l])\n",
        "    }\n",
        "  }\n",
        "    #backpropagation calculation\n",
        "    for l=L+1 to 1:{\n",
        "      if l==L+1 then{ #if output layer\n",
        "          delta[l]=-(y-softmax(y_pred))       #backpropagation of fotmax with negative log-likelihood loss is (y_pre-y)\n",
        "      }\n",
        "      else then { #in the hidden layers\n",
        "          delta[l]=(h[l]>0) * (theta[l+1]%*%delta[l+1])          #derivative of Relu is 1 if a>0 and if a<=0 it is 0 \n",
        "      }\n",
        "      #update parameter theta\n",
        "      theta[l]=theta[l]+lr*h[l-1]*delta[l]\n",
        "\n",
        "    }\n",
        "  \n",
        "}\n",
        "\n",
        "\n",
        "\n",
        "\n"
      ],
      "metadata": {
        "id": "opX-GgIJmwyt"
      },
      "execution_count": null,
      "outputs": []
    },
    {
      "cell_type": "markdown",
      "source": [
        "## Fonctions à compléter"
      ],
      "metadata": {
        "id": "SIQJD-TRwEdo"
      }
    },
    {
      "cell_type": "code",
      "metadata": {
        "id": "JzIQ0S4qDPKJ"
      },
      "source": [
        "''' Les fonctions dans cette cellule peuvent avoir les mêmes déclarations que celles de la partie 2''' \n",
        "def accuracy(y, y_pred) :\n",
        "    # todo : nombre d'éléments à classifier.\n",
        "    card_D = y.shape[0]\n",
        " \n",
        "    # todo : calcul du nombre d'éléments bien classifiés.\n",
        "    # card_C=((torch.eq(y,y_pred).sum(1))==10).sum().item()\n",
        "    card_C=torch.sum(torch.argmax(y_pred, axis=1) == torch.argmax(y, axis=1))\n",
        "    \n",
        "    # todo : calcul de la précision de classification.\n",
        "    acc = card_C/card_D\n",
        " \n",
        "    return acc, (card_C, card_D)\n",
        "\n",
        "\n",
        "def accuracy_and_loss_whole_dataset(data_loader, model):\n",
        "    cardinal = 0\n",
        "    loss     = 0.\n",
        "    n_accurate_preds  = 0.\n",
        "\n",
        "    for x, y in data_loader:\n",
        "        x, y = reshape_input(x, y)\n",
        "        y_pred                = model.forward(x)\n",
        "        xentrp                = cross_entropy(y, y_pred)\n",
        "        _, (n_acc, n_samples) = accuracy(y, y_pred)\n",
        "\n",
        "        cardinal = cardinal + n_samples\n",
        "        loss     = loss + xentrp\n",
        "        #print(xentrp)\n",
        "        n_accurate_preds  = n_accurate_preds + n_acc\n",
        "\n",
        "    loss = loss / float(cardinal)\n",
        "    acc  = n_accurate_preds / float(cardinal)\n",
        "\n",
        "    return acc, loss\n",
        "\n",
        "def inputs_tilde(x, axis=-1):\n",
        "    # augments the inputs `x` with ones along `axis`\n",
        "    # todo : implémenter code ici.\n",
        "    x_tilde = torch.cat((x, torch.Tensor([[1]]*len(x))), axis)\n",
        "    return x_tilde\n",
        "\n",
        "def softmax(x, axis=-1):\n",
        "    # assurez vous que la fonction est numeriquement stable\n",
        "    # e.g. softmax(np.array([1000, 10000, 100000], ndim=2))\n",
        "    \n",
        "    # todo : calcul des valeurs de softmax(x)\n",
        "    max,idx=torch.max(x, axis, keepdims=True)\n",
        "    x=torch.subtract(x,max)\n",
        "    values=torch.divide(torch.exp(x),torch.sum(torch.exp(x), axis=-1, keepdims=True))\n",
        "    values=np.clip(values, a_min=1e-4, a_max=1-1e-4)\n",
        "    return values\n",
        "\n",
        "def cross_entropy(y, y_pred):\n",
        "    # todo : calcul de la valeur d'entropie croisée.\n",
        "    loss=(-1) *torch.sum(y*torch.log(y_pred))\n",
        "    #print(y_pred)\n",
        "    return loss\n",
        "\n",
        "def softmax_cross_entropy_backward(y, y_pred):\n",
        "  \n",
        "     # todo : calcul de la valeur du gradient de l'entropie croisée composée avec `softmax`\n",
        "     values = (y_pred-y)   #-(y-y_pred)\n",
        "     return values\n",
        "\n",
        "def relu_forward(x):\n",
        "    # todo : calcul des valeurs de relu(x)\n",
        "    values = torch.maximum(x, torch.tensor(0))\n",
        "    return values\n",
        "\n",
        "def relu_backward(d_x, x):\n",
        "    # todo : calcul des valeurs du gradient de la fonction `relu`\n",
        "    x[x <= 0] = 0.0\n",
        "    x[x > 0] = 1.0\n",
        "    # print(x)\n",
        "    values = x*d_x  \n",
        "    return values\n",
        "    \n",
        "\n",
        "# Model est une classe representant votre reseaux de neuronnes\n",
        "class MLPModel:\n",
        "    def __init__(self, n_features, n_hidden_features, n_hidden_layers, n_classes):\n",
        "        self.n_features        = n_features\n",
        "        self.n_hidden_features = n_hidden_features\n",
        "        self.n_hidden_layers   = n_hidden_layers\n",
        "        self.n_classes         = n_classes\n",
        "        self.params = []\n",
        "        # todo : initialiser la liste des paramètres Teta de l'estimateur.\n",
        "        for l in range(self.n_hidden_layers+1):\n",
        "          if l==0:\n",
        "            in_nodes = self.n_features\n",
        "            out_nodes = self.n_hidden_features\n",
        "          elif l==self.n_hidden_layers:\n",
        "            in_nodes = self.n_hidden_features\n",
        "            out_nodes = self.n_classes\n",
        "          else:\n",
        "            in_nodes = self.n_hidden_features\n",
        "            out_nodes = self.n_hidden_features\n",
        "          self.params.append(torch.normal(0, 0.01, (in_nodes + 1, out_nodes)))\n",
        "          \n",
        "\n",
        "        print(f\"Teta params={[p.shape for p in self.params]}\")\n",
        "\n",
        "        self.a = [] # liste contenant le resultat des multiplications matricielles\n",
        "        self.h = [] # liste contenant le resultat des fonctions d'activations\n",
        "\n",
        "                \n",
        "        self.t = 0\n",
        "        self.m_t = [0]*len(self.params) # pour Adam: moyennes mobiles du gradient\n",
        "        self.v_t = [0]*len(self.params) # pour Adam: moyennes mobiles du carré du gradient\n",
        "\n",
        "    def forward(self, x):\n",
        "        self.a = [] # liste contenant le resultat des multiplications matricielles\n",
        "        self.h = []\n",
        "\n",
        "\n",
        "        self.h.append(inputs_tilde(x).clone())\n",
        "        # todo : implémenter calcul des outputs en fonction des inputs `x`.\n",
        "        for l in range(self.n_hidden_layers+1):\n",
        "\n",
        "          self.a.append(torch.matmul(self.h[l],self.params[l]))\n",
        "          if l<self.n_hidden_layers:\n",
        "\n",
        "            self.h.append(inputs_tilde(relu_forward(self.a[l])))\n",
        "          elif l==self.n_hidden_layers:\n",
        "\n",
        "            self.h.append(softmax(self.a[l]))\n",
        "            outputs = softmax(self.a[l])\n",
        "\n",
        "        return outputs\n",
        "\n",
        "    def backward(self, y, y_pred):\n",
        "\n",
        "        grads = [None]*(len(self.params))\n",
        "        delta=[None]*(self.n_hidden_layers+2)\n",
        "        # todo : implémenter calcul des gradients.\n",
        "        #grads = (1/len(y)) * (torch.matmul(inputs_tilde(X).T,softmax( y_pred))-torch.matmul(inputs_tilde(X).T,y))  #(785,batch_size)*(batch_size,10) grads:(785,10)\n",
        "        for l in range(self.n_hidden_layers+1,0,-1):\n",
        "          if l==self.n_hidden_layers+1:\n",
        "            delta[l]=softmax_cross_entropy_backward(y, y_pred)   #list assignment index out of range\n",
        "\n",
        "          else:            \n",
        "            delta[l]=relu_backward(torch.matmul(self.params[l][:-1,:],delta[l+1].T).T, self.h[l][:,:-1])\n",
        "\n",
        "          grads[l-1]=torch.matmul(delta[l].T,self.h[l-1])\n",
        "                                        \n",
        "        return grads\n",
        "\n",
        "    def sgd_update(self, lr, grads):\n",
        "       # TODO : implémenter mise à jour des paramètres ici.\n",
        "      for l in range(len(self.params)):\n",
        "         self.params[l]=self.params[l]-lr*grads[l].T \n",
        "\n",
        "      \n",
        "\n",
        "    \n",
        "    def adam_update(self, lr, grads):\n",
        "        # TODO : implémenter mise à jour des paramètres ici.\n",
        "        beta_1 = 0.9\n",
        "        beta_2 = 0.999\n",
        "        epsilon = 1e-8\n",
        "        self.t +=1\n",
        "        for l in range(0, len(self.params)):\n",
        "          self.m_t[l] = beta_1*self.m_t[l] + (1-beta_1)* grads[l].T \n",
        "          self.v_t [l]= beta_2*self.v_t[l] + (1-beta_2)* (grads[l].T * grads[l].T)\n",
        "            \n",
        "          m_t_c = self.m_t[l]/(1-(beta_1**self.t))\t\n",
        "          v_t_c = self.v_t[l]/(1-(beta_2**self.t))\n",
        "          self.params[l] = self.params[l] - (lr*m_t_c)/(torch.sqrt(v_t_c)+epsilon)\n",
        "\n",
        "\n",
        "def train(model, lr=0.1, nb_epochs=10, sgd=True, data_loader_train=None, data_loader_val=None):\n",
        "    best_model = None\n",
        "    best_val_accuracy = 0\n",
        "    logger = Logger()\n",
        "\n",
        "    for epoch in range(nb_epochs+1):\n",
        "\n",
        "        # at epoch 0 evaluate random initial model\n",
        "        #   then for subsequent epochs, do optimize before evaluation.\n",
        "        if epoch > 0:\n",
        "            # print(f'epch is {epoch}')\n",
        "            for x, y in data_loader_train:\n",
        "                x, y = reshape_input(x, y)\n",
        "\n",
        "                y_pred = model.forward(x)\n",
        "                grads  = model.backward(y, y_pred)\n",
        "\n",
        "                if sgd:\n",
        "                  model.sgd_update(lr, grads)\n",
        "                else:\n",
        "                  model.adam_update(lr, grads)\n",
        "        \n",
        "        accuracy_train, loss_train = accuracy_and_loss_whole_dataset(data_loader_train, model)\n",
        "        accuracy_val, loss_val = accuracy_and_loss_whole_dataset(data_loader_val, model)\n",
        "\n",
        "        if accuracy_val > best_val_accuracy:\n",
        "          # TODO : record the best model parameters and best validation accuracy\n",
        "          best_accuracy=accuracy_val\n",
        "          best_val_accuracy=best_accuracy\n",
        "          best_model=model\n",
        "\n",
        "        logger.log(accuracy_train, loss_train, accuracy_val, loss_val)\n",
        "        if epoch % 5 == 0: # prints every 5 epochs, you can change it to % 1 for example to print each epoch\n",
        "          print(f\"Epoch {epoch:2d}, \\\n",
        "                  Train:loss={loss_train.item():.3f}, accuracy={accuracy_train.item()*100:.1f}%, \\\n",
        "                  Valid: loss={loss_val.item():.3f}, accuracy={accuracy_val.item()*100:.1f}%\", flush=True)\n",
        "\n",
        "    return best_model, best_val_accuracy, logger"
      ],
      "execution_count": null,
      "outputs": []
    },
    {
      "cell_type": "markdown",
      "source": [
        "## Évaluation"
      ],
      "metadata": {
        "id": "tIe9DFvPwuQg"
      }
    },
    {
      "cell_type": "markdown",
      "source": [
        "### SGD: Recherche d'hyperparamètres"
      ],
      "metadata": {
        "id": "ml5jUvG9AUXK"
      }
    },
    {
      "cell_type": "code",
      "source": [
        "WAND_DISABLE=True\n",
        "\n",
        "# SGD\n",
        "# Montrez les résultats pour différents nombre de couche, e.g. 1, 3, 5, et différent nombres de neurone, e.g. 25, 100, 300, 500, 1000.\n",
        "depth_list = [1,3,5]   # Define ranges in a list\n",
        "width_list = [25,100,300,500,1000]   # Define ranges in a list\n",
        "lr = 0.001           # Some value\n",
        "batch_size = 20   # Some value\n",
        "\n",
        "with torch.no_grad():\n",
        "  for depth in depth_list:\n",
        "    for width in width_list:\n",
        "      print(\"------------------------------------------------------------------\")\n",
        "      print(\"Training model with a depth of {0} layers and a width of {1} units\".format(depth, width))\n",
        "      data_loader_train, data_loader_val, data_loader_test = get_fashion_mnist_dataloaders(val_percentage=0.1, batch_size=batch_size)\n",
        "      \n",
        "      MLP_model = MLPModel(n_features=784, n_hidden_features=width, n_hidden_layers=depth, n_classes=10)\n",
        "      _, val_accuracy, _ = train(MLP_model,lr=lr, nb_epochs=5, sgd=True, data_loader_train=data_loader_train, data_loader_val=data_loader_val)\n",
        "      print(f\"validation accuracy = {val_accuracy*100:.3f}\")"
      ],
      "metadata": {
        "id": "fe7hyN63AUXL",
        "colab": {
          "base_uri": "https://localhost:8080/"
        },
        "outputId": "e659df2b-e55f-4229-b35e-11c169cea78c"
      },
      "execution_count": null,
      "outputs": [
        {
          "output_type": "stream",
          "name": "stdout",
          "text": [
            "------------------------------------------------------------------\n",
            "Training model with a depth of 1 layers and a width of 25 units\n",
            "Teta params=[torch.Size([785, 25]), torch.Size([26, 10])]\n"
          ]
        },
        {
          "output_type": "stream",
          "name": "stderr",
          "text": [
            "/usr/local/lib/python3.7/dist-packages/torch/utils/data/dataloader.py:481: UserWarning: This DataLoader will create 4 worker processes in total. Our suggested max number of worker in current system is 2, which is smaller than what this DataLoader is going to create. Please be aware that excessive worker creation might get DataLoader running slow or even freeze, lower the worker number to avoid potential slowness/freeze if necessary.\n",
            "  cpuset_checked))\n"
          ]
        },
        {
          "output_type": "stream",
          "name": "stdout",
          "text": [
            "Epoch  0,                   Train:loss=2.303, accuracy=8.0%,                   Valid: loss=2.303, accuracy=7.8%\n",
            "Epoch  5,                   Train:loss=0.403, accuracy=85.6%,                   Valid: loss=0.426, accuracy=85.0%\n",
            "validation accuracy = 85.133\n",
            "------------------------------------------------------------------\n",
            "Training model with a depth of 1 layers and a width of 100 units\n",
            "Teta params=[torch.Size([785, 100]), torch.Size([101, 10])]\n",
            "Epoch  0,                   Train:loss=2.302, accuracy=15.3%,                   Valid: loss=2.302, accuracy=15.0%\n",
            "Epoch  5,                   Train:loss=0.393, accuracy=85.6%,                   Valid: loss=0.425, accuracy=84.6%\n",
            "validation accuracy = 84.650\n",
            "------------------------------------------------------------------\n",
            "Training model with a depth of 1 layers and a width of 300 units\n",
            "Teta params=[torch.Size([785, 300]), torch.Size([301, 10])]\n",
            "Epoch  0,                   Train:loss=2.305, accuracy=8.9%,                   Valid: loss=2.305, accuracy=9.3%\n",
            "Epoch  5,                   Train:loss=0.360, accuracy=87.3%,                   Valid: loss=0.370, accuracy=86.9%\n",
            "validation accuracy = 86.900\n",
            "------------------------------------------------------------------\n",
            "Training model with a depth of 1 layers and a width of 500 units\n",
            "Teta params=[torch.Size([785, 500]), torch.Size([501, 10])]\n",
            "Epoch  0,                   Train:loss=2.301, accuracy=7.5%,                   Valid: loss=2.301, accuracy=7.6%\n",
            "Epoch  5,                   Train:loss=0.358, accuracy=87.3%,                   Valid: loss=0.366, accuracy=87.1%\n",
            "validation accuracy = 87.100\n",
            "------------------------------------------------------------------\n",
            "Training model with a depth of 1 layers and a width of 1000 units\n",
            "Teta params=[torch.Size([785, 1000]), torch.Size([1001, 10])]\n",
            "Epoch  0,                   Train:loss=2.302, accuracy=8.7%,                   Valid: loss=2.302, accuracy=8.4%\n",
            "Epoch  5,                   Train:loss=0.364, accuracy=87.1%,                   Valid: loss=0.368, accuracy=87.1%\n",
            "validation accuracy = 87.117\n",
            "------------------------------------------------------------------\n",
            "Training model with a depth of 3 layers and a width of 25 units\n",
            "Teta params=[torch.Size([785, 25]), torch.Size([26, 25]), torch.Size([26, 25]), torch.Size([26, 10])]\n",
            "Epoch  0,                   Train:loss=2.303, accuracy=10.0%,                   Valid: loss=2.303, accuracy=10.2%\n",
            "Epoch  5,                   Train:loss=2.303, accuracy=10.0%,                   Valid: loss=2.303, accuracy=9.9%\n",
            "validation accuracy = 10.200\n",
            "------------------------------------------------------------------\n",
            "Training model with a depth of 3 layers and a width of 100 units\n",
            "Teta params=[torch.Size([785, 100]), torch.Size([101, 100]), torch.Size([101, 100]), torch.Size([101, 10])]\n",
            "Epoch  0,                   Train:loss=2.303, accuracy=10.0%,                   Valid: loss=2.303, accuracy=10.1%\n",
            "Epoch  5,                   Train:loss=0.597, accuracy=78.2%,                   Valid: loss=0.622, accuracy=77.7%\n",
            "validation accuracy = 77.750\n",
            "------------------------------------------------------------------\n",
            "Training model with a depth of 3 layers and a width of 300 units\n",
            "Teta params=[torch.Size([785, 300]), torch.Size([301, 300]), torch.Size([301, 300]), torch.Size([301, 10])]\n",
            "Epoch  0,                   Train:loss=2.303, accuracy=10.0%,                   Valid: loss=2.303, accuracy=9.9%\n",
            "Epoch  5,                   Train:loss=0.438, accuracy=84.3%,                   Valid: loss=0.432, accuracy=84.4%\n",
            "validation accuracy = 84.400\n",
            "------------------------------------------------------------------\n",
            "Training model with a depth of 3 layers and a width of 500 units\n",
            "Teta params=[torch.Size([785, 500]), torch.Size([501, 500]), torch.Size([501, 500]), torch.Size([501, 10])]\n",
            "Epoch  0,                   Train:loss=2.303, accuracy=10.0%,                   Valid: loss=2.303, accuracy=9.6%\n",
            "Epoch  5,                   Train:loss=0.403, accuracy=85.4%,                   Valid: loss=0.418, accuracy=85.2%\n",
            "validation accuracy = 85.167\n",
            "------------------------------------------------------------------\n",
            "Training model with a depth of 3 layers and a width of 1000 units\n",
            "Teta params=[torch.Size([785, 1000]), torch.Size([1001, 1000]), torch.Size([1001, 1000]), torch.Size([1001, 10])]\n",
            "Epoch  0,                   Train:loss=2.303, accuracy=10.0%,                   Valid: loss=2.303, accuracy=10.0%\n",
            "Epoch  5,                   Train:loss=0.364, accuracy=86.6%,                   Valid: loss=0.396, accuracy=85.6%\n",
            "validation accuracy = 85.633\n",
            "------------------------------------------------------------------\n",
            "Training model with a depth of 5 layers and a width of 25 units\n",
            "Teta params=[torch.Size([785, 25]), torch.Size([26, 25]), torch.Size([26, 25]), torch.Size([26, 25]), torch.Size([26, 25]), torch.Size([26, 10])]\n",
            "Epoch  0,                   Train:loss=2.303, accuracy=9.9%,                   Valid: loss=2.303, accuracy=10.5%\n",
            "Epoch  5,                   Train:loss=2.303, accuracy=10.0%,                   Valid: loss=2.303, accuracy=9.9%\n",
            "validation accuracy = 10.533\n",
            "------------------------------------------------------------------\n",
            "Training model with a depth of 5 layers and a width of 100 units\n",
            "Teta params=[torch.Size([785, 100]), torch.Size([101, 100]), torch.Size([101, 100]), torch.Size([101, 100]), torch.Size([101, 100]), torch.Size([101, 10])]\n",
            "Epoch  0,                   Train:loss=2.303, accuracy=10.0%,                   Valid: loss=2.303, accuracy=10.2%\n",
            "Epoch  5,                   Train:loss=2.303, accuracy=10.0%,                   Valid: loss=2.303, accuracy=9.8%\n",
            "validation accuracy = 10.417\n",
            "------------------------------------------------------------------\n",
            "Training model with a depth of 5 layers and a width of 300 units\n",
            "Teta params=[torch.Size([785, 300]), torch.Size([301, 300]), torch.Size([301, 300]), torch.Size([301, 300]), torch.Size([301, 300]), torch.Size([301, 10])]\n",
            "Epoch  0,                   Train:loss=2.303, accuracy=10.0%,                   Valid: loss=2.303, accuracy=10.0%\n",
            "Epoch  5,                   Train:loss=2.303, accuracy=10.0%,                   Valid: loss=2.303, accuracy=9.8%\n",
            "validation accuracy = 10.567\n",
            "------------------------------------------------------------------\n",
            "Training model with a depth of 5 layers and a width of 500 units\n",
            "Teta params=[torch.Size([785, 500]), torch.Size([501, 500]), torch.Size([501, 500]), torch.Size([501, 500]), torch.Size([501, 500]), torch.Size([501, 10])]\n",
            "Epoch  0,                   Train:loss=2.303, accuracy=10.1%,                   Valid: loss=2.303, accuracy=9.0%\n",
            "Epoch  5,                   Train:loss=2.303, accuracy=10.1%,                   Valid: loss=2.303, accuracy=9.0%\n",
            "validation accuracy = 10.033\n",
            "------------------------------------------------------------------\n",
            "Training model with a depth of 5 layers and a width of 1000 units\n",
            "Teta params=[torch.Size([785, 1000]), torch.Size([1001, 1000]), torch.Size([1001, 1000]), torch.Size([1001, 1000]), torch.Size([1001, 1000]), torch.Size([1001, 10])]\n",
            "Epoch  0,                   Train:loss=2.303, accuracy=10.0%,                   Valid: loss=2.303, accuracy=9.9%\n",
            "Epoch  5,                   Train:loss=0.462, accuracy=82.7%,                   Valid: loss=0.466, accuracy=83.2%\n",
            "validation accuracy = 83.183\n"
          ]
        }
      ]
    },
    {
      "cell_type": "markdown",
      "source": [
        "#### **Tableau pour la précision sur l'ensemble de validation**\n",
        "N.B. que les lignes correspondent aux nombre de couche et les colonnes correspondent au nombre de neurone dans chaque couche. Les valeurs ci-dessous sont donné comme exemples; remplacez-les par les valeurs que vous avez utilisées pour votre recherche d'hyperparamètres.\n",
        "\n",
        "depth\\width  | 25 | 100 | 300 | 500 | 1000 \n",
        "-------------------|------------------|------------------|------------------|------------------|------------------|\n",
        "**1**   | 85.13  | 84.65 | 86.9 | 87.1 | 87.1 |\n",
        "**3** | 9.9  | 77.7 | 84.9 | 85.2 | 85.6 |\n",
        "**5**  | 10.53  | 10.417 | 10.567 | 10.03 | 83.2 |"
      ],
      "metadata": {
        "id": "QnDMqFapAUXM"
      }
    },
    {
      "cell_type": "markdown",
      "source": [
        "### SGD: Analyse du meilleur modèle"
      ],
      "metadata": {
        "id": "2wuN-uw7AUXN"
      }
    },
    {
      "cell_type": "code",
      "metadata": {
        "id": "CShZ3VB0AUXN",
        "colab": {
          "base_uri": "https://localhost:8080/",
          "height": 598
        },
        "outputId": "05276468-d5b3-41bd-d8ce-4cc9c8a9788e"
      },
      "source": [
        "# SGD\n",
        "# Montrez les résultats pour la meilleure configuration trouvez ci-dessus.\n",
        "depth = 1    # TODO: Vous devez modifier cette valeur avec la meilleur que vous avez eu.\n",
        "width = 500    # TODO: Vous devez modifier cette valeur avec la meilleur que vous avez eu.\n",
        "lr = 0.001           # Some value\n",
        "batch_size = 20   # Some value\n",
        "\n",
        "with torch.no_grad():\n",
        "  data_loader_train, data_loader_val, data_loader_test = get_fashion_mnist_dataloaders(val_percentage=0.1, batch_size=batch_size)\n",
        "\n",
        "  MLP_model = MLPModel(n_features=784, n_hidden_features=width, n_hidden_layers=depth, n_classes=10)\n",
        "  best_model, best_val_accuracy, logger = train(MLP_model,lr=lr, nb_epochs=5, sgd=True, \n",
        "                                                data_loader_train=data_loader_train, data_loader_val=data_loader_val)\n",
        "  logger.plot_loss_and_accuracy()\n",
        "  print(f\"Best validation accuracy = {best_val_accuracy*100:.3f}\")\n",
        "\n",
        "  accuracy_test, loss_test = accuracy_and_loss_whole_dataset(data_loader_test, best_model)\n",
        "print(\"Evaluation of the best training model over test set\")\n",
        "print(\"------\")\n",
        "print(f\"Loss : {loss_test:.3f}\")\n",
        "print(f\"Accuracy : {accuracy_test*100.:.3f}\")"
      ],
      "execution_count": null,
      "outputs": [
        {
          "output_type": "stream",
          "name": "stdout",
          "text": [
            "Teta params=[torch.Size([785, 500]), torch.Size([501, 10])]\n"
          ]
        },
        {
          "output_type": "stream",
          "name": "stderr",
          "text": [
            "/usr/local/lib/python3.7/dist-packages/torch/utils/data/dataloader.py:481: UserWarning: This DataLoader will create 4 worker processes in total. Our suggested max number of worker in current system is 2, which is smaller than what this DataLoader is going to create. Please be aware that excessive worker creation might get DataLoader running slow or even freeze, lower the worker number to avoid potential slowness/freeze if necessary.\n",
            "  cpuset_checked))\n"
          ]
        },
        {
          "output_type": "stream",
          "name": "stdout",
          "text": [
            "Epoch  0,                   Train:loss=2.304, accuracy=6.0%,                   Valid: loss=2.304, accuracy=6.4%\n",
            "Epoch  5,                   Train:loss=0.368, accuracy=87.0%,                   Valid: loss=0.370, accuracy=87.3%\n",
            "Best validation accuracy = 87.317\n",
            "Evaluation of the best training model over test set\n",
            "------\n",
            "Loss : 0.414\n",
            "Accuracy : 85.230\n"
          ]
        },
        {
          "output_type": "display_data",
          "data": {
            "image/png": "[encoded data removed]",
            "text/plain": [
              "<Figure size 864x432 with 2 Axes>"
            ]
          },
          "metadata": {
            "needs_background": "light"
          }
        }
      ]
    },
    {
      "cell_type": "markdown",
      "source": [
        "### Adam: Recherche d'hyperparamètres\n",
        "\n",
        "Implémentez Adam, répétez les deux étapes précédentes (recherche d'hyperparamètres et analyse du meilleur modèle) cette fois en utilisat Adam, et comparez les performances finales avec votre meilleur modèle SGD."
      ],
      "metadata": {
        "id": "_tPLgZriAUXO"
      }
    },
    {
      "cell_type": "code",
      "source": [
        "WAND_DISABLE=True\n",
        "# ADAM\n",
        "# Montrez les résultats pour différents nombre de couche, e.g. 1, 3, 5, et différent nombres de neurone, e.g. 25, 100, 300, 500, 1000.\n",
        "depth_list = [1,3,5]   # Define ranges in a list\n",
        "width_list = [25,100,300,500]   # Define ranges in a list\n",
        "lr = 0.001           # Some value\n",
        "batch_size = 20   # Some value\n",
        "\n",
        "with torch.no_grad():\n",
        "  for depth in depth_list:\n",
        "    for width in width_list:\n",
        "      print(\"------------------------------------------------------------------\")\n",
        "      print(\"Training model with a depth of {0} layers and a width of {1} units\".format(depth, width))\n",
        "      data_loader_train, data_loader_val, data_loader_test = get_fashion_mnist_dataloaders(val_percentage=0.1, batch_size=batch_size)\n",
        "      \n",
        "      MLP_model = MLPModel(n_features=784, n_hidden_features=width, n_hidden_layers=depth, n_classes=10)\n",
        "      _, val_accuracy, _ = train(MLP_model, lr=lr, nb_epochs=5, sgd=False, data_loader_train=data_loader_train, data_loader_val=data_loader_val)\n",
        "      print(f\"validation accuracy = {val_accuracy*100:.3f}\")"
      ],
      "metadata": {
        "id": "tEVOh1r7AUXO",
        "colab": {
          "base_uri": "https://localhost:8080/"
        },
        "outputId": "50a7fde1-796b-490a-ee54-5de7842cb029"
      },
      "execution_count": null,
      "outputs": [
        {
          "output_type": "stream",
          "name": "stdout",
          "text": [
            "------------------------------------------------------------------\n",
            "Training model with a depth of 1 layers and a width of 25 units\n",
            "Teta params=[torch.Size([785, 25]), torch.Size([26, 10])]\n"
          ]
        },
        {
          "output_type": "stream",
          "name": "stderr",
          "text": [
            "/usr/local/lib/python3.7/dist-packages/torch/utils/data/dataloader.py:481: UserWarning: This DataLoader will create 4 worker processes in total. Our suggested max number of worker in current system is 2, which is smaller than what this DataLoader is going to create. Please be aware that excessive worker creation might get DataLoader running slow or even freeze, lower the worker number to avoid potential slowness/freeze if necessary.\n",
            "  cpuset_checked))\n"
          ]
        },
        {
          "output_type": "stream",
          "name": "stdout",
          "text": [
            "Epoch  0,                   Train:loss=2.303, accuracy=10.4%,                   Valid: loss=2.303, accuracy=10.4%\n",
            "Epoch  5,                   Train:loss=0.352, accuracy=87.3%,                   Valid: loss=0.364, accuracy=86.8%\n",
            "validation accuracy = 86.850\n",
            "------------------------------------------------------------------\n",
            "Training model with a depth of 1 layers and a width of 100 units\n",
            "Teta params=[torch.Size([785, 100]), torch.Size([101, 10])]\n",
            "Epoch  0,                   Train:loss=2.304, accuracy=7.4%,                   Valid: loss=2.304, accuracy=7.3%\n",
            "Epoch  5,                   Train:loss=0.289, accuracy=89.3%,                   Valid: loss=0.346, accuracy=87.9%\n",
            "validation accuracy = 87.950\n",
            "------------------------------------------------------------------\n",
            "Training model with a depth of 1 layers and a width of 300 units\n",
            "Teta params=[torch.Size([785, 300]), torch.Size([301, 10])]\n",
            "Epoch  0,                   Train:loss=2.300, accuracy=11.4%,                   Valid: loss=2.300, accuracy=11.6%\n",
            "Epoch  5,                   Train:loss=0.262, accuracy=90.4%,                   Valid: loss=0.318, accuracy=88.5%\n",
            "validation accuracy = 88.450\n",
            "------------------------------------------------------------------\n",
            "Training model with a depth of 1 layers and a width of 500 units\n",
            "Teta params=[torch.Size([785, 500]), torch.Size([501, 10])]\n",
            "Epoch  0,                   Train:loss=2.301, accuracy=14.3%,                   Valid: loss=2.302, accuracy=14.0%\n",
            "Epoch  5,                   Train:loss=0.307, accuracy=88.6%,                   Valid: loss=0.350, accuracy=87.4%\n",
            "validation accuracy = 89.367\n",
            "------------------------------------------------------------------\n",
            "Training model with a depth of 3 layers and a width of 25 units\n",
            "Teta params=[torch.Size([785, 25]), torch.Size([26, 25]), torch.Size([26, 25]), torch.Size([26, 10])]\n",
            "Epoch  0,                   Train:loss=2.303, accuracy=10.0%,                   Valid: loss=2.303, accuracy=9.9%\n",
            "Epoch  5,                   Train:loss=0.569, accuracy=79.6%,                   Valid: loss=0.582, accuracy=78.8%\n",
            "validation accuracy = 78.833\n",
            "------------------------------------------------------------------\n",
            "Training model with a depth of 3 layers and a width of 100 units\n",
            "Teta params=[torch.Size([785, 100]), torch.Size([101, 100]), torch.Size([101, 100]), torch.Size([101, 10])]\n",
            "Epoch  0,                   Train:loss=2.303, accuracy=10.0%,                   Valid: loss=2.303, accuracy=10.3%\n",
            "Epoch  5,                   Train:loss=3.444, accuracy=61.3%,                   Valid: loss=3.472, accuracy=61.1%\n",
            "validation accuracy = 83.467\n",
            "------------------------------------------------------------------\n",
            "Training model with a depth of 3 layers and a width of 300 units\n",
            "Teta params=[torch.Size([785, 300]), torch.Size([301, 300]), torch.Size([301, 300]), torch.Size([301, 10])]\n",
            "Epoch  0,                   Train:loss=2.303, accuracy=10.0%,                   Valid: loss=2.303, accuracy=10.1%\n",
            "Epoch  5,                   Train:loss=3.699, accuracy=57.5%,                   Valid: loss=3.688, accuracy=57.5%\n",
            "validation accuracy = 84.800\n",
            "------------------------------------------------------------------\n",
            "Training model with a depth of 3 layers and a width of 500 units\n",
            "Teta params=[torch.Size([785, 500]), torch.Size([501, 500]), torch.Size([501, 500]), torch.Size([501, 10])]\n",
            "Epoch  0,                   Train:loss=2.303, accuracy=10.0%,                   Valid: loss=2.303, accuracy=10.1%\n",
            "Epoch  5,                   Train:loss=2.073, accuracy=21.6%,                   Valid: loss=2.055, accuracy=20.6%\n",
            "validation accuracy = 82.383\n",
            "------------------------------------------------------------------\n",
            "Training model with a depth of 5 layers and a width of 25 units\n",
            "Teta params=[torch.Size([785, 25]), torch.Size([26, 25]), torch.Size([26, 25]), torch.Size([26, 25]), torch.Size([26, 25]), torch.Size([26, 10])]\n",
            "Epoch  0,                   Train:loss=2.303, accuracy=10.0%,                   Valid: loss=2.303, accuracy=10.2%\n",
            "Epoch  5,                   Train:loss=0.650, accuracy=76.3%,                   Valid: loss=0.656, accuracy=76.3%\n",
            "validation accuracy = 76.300\n",
            "------------------------------------------------------------------\n",
            "Training model with a depth of 5 layers and a width of 100 units\n",
            "Teta params=[torch.Size([785, 100]), torch.Size([101, 100]), torch.Size([101, 100]), torch.Size([101, 100]), torch.Size([101, 100]), torch.Size([101, 10])]\n",
            "Epoch  0,                   Train:loss=2.303, accuracy=10.0%,                   Valid: loss=2.303, accuracy=10.1%\n",
            "Epoch  5,                   Train:loss=2.033, accuracy=19.7%,                   Valid: loss=2.031, accuracy=19.7%\n",
            "validation accuracy = 72.917\n",
            "------------------------------------------------------------------\n",
            "Training model with a depth of 5 layers and a width of 300 units\n",
            "Teta params=[torch.Size([785, 300]), torch.Size([301, 300]), torch.Size([301, 300]), torch.Size([301, 300]), torch.Size([301, 300]), torch.Size([301, 10])]\n",
            "Epoch  0,                   Train:loss=2.303, accuracy=10.0%,                   Valid: loss=2.303, accuracy=10.4%\n",
            "Epoch  5,                   Train:loss=2.285, accuracy=10.8%,                   Valid: loss=2.293, accuracy=10.3%\n",
            "validation accuracy = 80.767\n",
            "------------------------------------------------------------------\n",
            "Training model with a depth of 5 layers and a width of 500 units\n",
            "Teta params=[torch.Size([785, 500]), torch.Size([501, 500]), torch.Size([501, 500]), torch.Size([501, 500]), torch.Size([501, 500]), torch.Size([501, 10])]\n",
            "Epoch  0,                   Train:loss=2.303, accuracy=10.1%,                   Valid: loss=2.303, accuracy=9.5%\n",
            "Epoch  5,                   Train:loss=2.251, accuracy=12.3%,                   Valid: loss=2.261, accuracy=11.5%\n",
            "validation accuracy = 83.000\n"
          ]
        }
      ]
    },
    {
      "cell_type": "markdown",
      "source": [
        "#### **Tableau pour la précision sur l'ensemble de validation**\n",
        "N.B. que les lignes correspondent aux nombre de couche et les colonnes correspondent au nombre de neurone dans chaque couche. Les valeurs ci-dessous sont donné comme exemples; remplacez-les par les valeurs que vous avez utilisées pour votre recherche d'hyperparamètres.\n",
        "\n",
        "depth\\width  | 25 | 100 | 300 | 500 | 1000 \n",
        "-------------------|------------------|------------------|------------------|------------------|------------------|\n",
        "**1**   | 86.85  | 87.95 | 88.45 | 89.36 | - |\n",
        "**3** | 78.8  | 83.5 | 84.8 | 82.383 | - |\n",
        "**5**  | 76.300  | 72.92 | 80.77 | 83 | - |"
      ],
      "metadata": {
        "id": "6LQ6q18CAUXP"
      }
    },
    {
      "cell_type": "markdown",
      "source": [
        "### Adam: Analyse du meilleur modèle"
      ],
      "metadata": {
        "id": "df6Y9ziXAUXP"
      }
    },
    {
      "cell_type": "code",
      "source": [
        "# ADAM\n",
        "# Montrez les résultats pour la meilleure configuration trouvez ci-dessus.\n",
        "depth = 1    # TODO: Vous devez modifier cette valeur avec la meilleur que vous avez eu.\n",
        "width = 500    # TODO: Vous devez modifier cette valeur avec la meilleur que vous avez eu.\n",
        "lr = 0.001           # Some value\n",
        "batch_size = 20   # Some value\n",
        "\n",
        "with torch.no_grad():\n",
        "  data_loader_train, data_loader_val, data_loader_test = get_fashion_mnist_dataloaders(val_percentage=0.1, batch_size=batch_size)\n",
        "\n",
        "  MLP_model = MLPModel(n_features=784, n_hidden_features=width, n_hidden_layers=depth, n_classes=10)\n",
        "  best_model, best_val_accuracy, logger = train(MLP_model,lr=lr, nb_epochs=5, sgd=False, \n",
        "                                                data_loader_train=data_loader_train, data_loader_val=data_loader_val)\n",
        "  logger.plot_loss_and_accuracy()\n",
        "  print(f\"Best validation accuracy = {best_val_accuracy*100:.3f}\")\n",
        "\n",
        "  accuracy_test, loss_test = accuracy_and_loss_whole_dataset(data_loader_test, best_model)\n",
        "print(\"Evaluation of the best training model over test set\")\n",
        "print(\"------\")\n",
        "print(f\"Loss : {loss_test:.3f}\")\n",
        "print(f\"Accuracy : {accuracy_test*100.:.3f}\")"
      ],
      "metadata": {
        "id": "uohnWTtoAUXP",
        "colab": {
          "base_uri": "https://localhost:8080/",
          "height": 598
        },
        "outputId": "e10dee93-1449-4348-fd92-a379a7000130"
      },
      "execution_count": null,
      "outputs": [
        {
          "output_type": "stream",
          "name": "stdout",
          "text": [
            "Teta params=[torch.Size([785, 500]), torch.Size([501, 10])]\n"
          ]
        },
        {
          "output_type": "stream",
          "name": "stderr",
          "text": [
            "/usr/local/lib/python3.7/dist-packages/torch/utils/data/dataloader.py:481: UserWarning: This DataLoader will create 4 worker processes in total. Our suggested max number of worker in current system is 2, which is smaller than what this DataLoader is going to create. Please be aware that excessive worker creation might get DataLoader running slow or even freeze, lower the worker number to avoid potential slowness/freeze if necessary.\n",
            "  cpuset_checked))\n"
          ]
        },
        {
          "output_type": "stream",
          "name": "stdout",
          "text": [
            "Epoch  0,                   Train:loss=2.308, accuracy=6.1%,                   Valid: loss=2.308, accuracy=5.9%\n",
            "Epoch  5,                   Train:loss=0.289, accuracy=89.5%,                   Valid: loss=0.350, accuracy=87.9%\n",
            "Best validation accuracy = 88.900\n",
            "Evaluation of the best training model over test set\n",
            "------\n",
            "Loss : 0.386\n",
            "Accuracy : 87.000\n"
          ]
        },
        {
          "output_type": "display_data",
          "data": {
            "image/png": "[encoded data removed]",
            "text/plain": [
              "<Figure size 864x432 with 2 Axes>"
            ]
          },
          "metadata": {
            "needs_background": "light"
          }
        }
      ]
    },
    {
      "cell_type": "markdown",
      "source": [
        "### Analyse des Résultats"
      ],
      "metadata": {
        "id": "-wlDcZB-AUXP"
      }
    },
    {
      "cell_type": "markdown",
      "source": [
        "#Comme on peut le voir dans les tableaux des performances de SGD et d'Adam sur l'ensemble de données de validation, Adam fonctionne considérablement mieux que Mini-batch GD dans le réseau de neurones.\n",
        "#Au fur et à mesure que le nombre de couches cachées augmente, le mini-lot GD donne de mauvaises performances.\n",
        "#Le résultat de SGD et d'Adam montre que la précision de la validation augmente avec le nombre de neurones et diminue avec le nombre de couches cachées.  Adam prend beaucoup de temps à s'exécuter et il est presque impossible d'exécuter ADAM avec 1000 neurones sur chaque couche avec CPU.  \n",
        "#Aussi, La performance d'Adam sur le jeu de données de test sont meilleures que celles de Mini-batch GD. "
      ],
      "metadata": {
        "id": "M-Wi3CG3AUXP"
      }
    }
  ]
}